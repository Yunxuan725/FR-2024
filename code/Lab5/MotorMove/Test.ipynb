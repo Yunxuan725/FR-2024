{
 "cells": [
  {
   "cell_type": "code",
   "execution_count": 210,
   "id": "7e74f93b-f1d0-43d9-8bd5-0f69f3c4f330",
   "metadata": {},
   "outputs": [
    {
     "name": "stdout",
     "output_type": "stream",
     "text": [
      "The autoreload extension is already loaded. To reload it, use:\n",
      "  %reload_ext autoreload\n"
     ]
    }
   ],
   "source": [
    "%load_ext autoreload\n",
    "%autoreload 2\n",
    "\n",
    "import sys\n",
    "from ble import get_ble_controller\n",
    "from base_ble import LOG\n",
    "from cmd_types import CMD\n",
    "import time\n",
    "import numpy as np\n",
    "import matplotlib.pyplot as plt\n",
    "\n",
    "LOG.propagate = False"
   ]
  },
  {
   "cell_type": "code",
   "execution_count": 211,
   "id": "cfc347f2-f810-466f-84a0-454992a78c3f",
   "metadata": {},
   "outputs": [
    {
     "name": "stdout",
     "output_type": "stream",
     "text": [
      "2024-03-17 23:07:10,601 |\u001b[32m INFO     \u001b[0m|: info\n",
      "2024-03-17 23:07:10,602 |\u001b[33m WARNING  \u001b[0m|: warning\n",
      "2024-03-17 23:07:10,603 |\u001b[31m ERROR    \u001b[0m|: error\n",
      "2024-03-17 23:07:10,604 |\u001b[31m\u001b[47m\u001b[1m CRITICAL \u001b[0m|: critical\n"
     ]
    }
   ],
   "source": [
    "LOG.debug(\"debug\")\n",
    "LOG.info(\"info\")\n",
    "LOG.warning(\"warning\")\n",
    "LOG.error(\"error\")\n",
    "LOG.critical(\"critical\")"
   ]
  },
  {
   "cell_type": "code",
   "execution_count": 212,
   "id": "b20ec1d6-b627-40b3-be9c-c6ec0b215b56",
   "metadata": {},
   "outputs": [
    {
     "name": "stdout",
     "output_type": "stream",
     "text": [
      "2024-03-17 23:07:11,097 |\u001b[32m INFO     \u001b[0m|: Looking for Artemis Nano Peripheral Device: c0:89:c1:6d:24:4b\n",
      "2024-03-17 23:07:17,858 |\u001b[32m INFO     \u001b[0m|: Connected to c0:89:c1:6d:24:4b\n"
     ]
    }
   ],
   "source": [
    "# Get ArtemisBLEController object\n",
    "ble = get_ble_controller()\n",
    "\n",
    "# Connect to the Artemis Device\n",
    "ble.connect()"
   ]
  },
  {
   "cell_type": "code",
   "execution_count": 220,
   "id": "36762508-0290-48c0-a9fe-e06b4e87d579",
   "metadata": {},
   "outputs": [
    {
     "name": "stdout",
     "output_type": "stream",
     "text": [
      "Robot says: HiHello :)\n"
     ]
    }
   ],
   "source": [
    "ble.send_command(CMD.ECHO, \"HiHello\")\n",
    "output1 = ble.receive_string(ble.uuid['RX_STRING'])\n",
    "print(output1)"
   ]
  },
  {
   "cell_type": "code",
   "execution_count": 221,
   "id": "b96a06b3-68a7-448b-a608-5c08012cd800",
   "metadata": {},
   "outputs": [
    {
     "name": "stdout",
     "output_type": "stream",
     "text": [
      "STOP\n"
     ]
    }
   ],
   "source": [
    "ble.send_command(CMD.STOP,\"\")\n",
    "output1 = ble.receive_string(ble.uuid['RX_STRING'])\n",
    "print(output1)"
   ]
  },
  {
   "cell_type": "code",
   "execution_count": 193,
   "id": "6392ab8e-7eb9-479a-a487-99c679644f55",
   "metadata": {},
   "outputs": [
    {
     "name": "stdout",
     "output_type": "stream",
     "text": [
      "Forward:39, 35\n",
      "Forward:38, 34\n",
      "Forward:36, 33\n",
      "Forward:35, 32\n",
      "Forward:34, 31\n",
      "Forward:33, 30\n",
      "Forward:32, 29\n",
      "Forward:31, 28\n"
     ]
    }
   ],
   "source": [
    "dir = 1\n",
    "ble.send_command(CMD.MOVE,\"1|39|35\") \n",
    "time.sleep(3)\n",
    "for i in range(8):\n",
    "    sr = 35-i\n",
    "    sl = int(1.12*sr)\n",
    "    cmd = str(dir)+\"|\"+ str(sl)+ \"|\"+ str(sr)\n",
    "    ble.send_command(CMD.MOVE,cmd) \n",
    "    output1 = ble.receive_string(ble.uuid['RX_STRING'])\n",
    "    print(output1)\n",
    "    time.sleep(3)\n"
   ]
  },
  {
   "cell_type": "code",
   "execution_count": 228,
   "id": "19b17783-f34d-48cc-9a26-9a63bcde95a2",
   "metadata": {},
   "outputs": [
    {
     "name": "stdout",
     "output_type": "stream",
     "text": [
      "Turn Left:110, 110\n",
      "2024-03-18 01:57:17,169 |\u001b[32m INFO     \u001b[0m|: Disconnected from C0:89:C1:6D:24:4B\n"
     ]
    }
   ],
   "source": [
    "ble.send_command(CMD.MOVE,\"3|110|110\")\n",
    "print(ble.receive_string(ble.uuid['RX_STRING']))"
   ]
  },
  {
   "cell_type": "code",
   "execution_count": 219,
   "id": "2b885616-5c73-43a7-8283-888b91f7f7a6",
   "metadata": {},
   "outputs": [
    {
     "name": "stdout",
     "output_type": "stream",
     "text": [
      "Forward:112, 100\n"
     ]
    }
   ],
   "source": [
    "#forward = 1, backward = 2, turn left = 3, turn right = 4\n",
    "#Motor PWM is chosen from 0 to 255\n",
    "#Direction|Left Motor PWM|Right Motor PWM\n",
    "ble.send_command(CMD.MOVE,\"1|112|100\") \n",
    "output1 = ble.receive_string(ble.uuid['RX_STRING'])\n",
    "print(output1)"
   ]
  },
  {
   "cell_type": "code",
   "execution_count": 217,
   "id": "1b228d00-cfee-44db-957f-a6d5833ec4fb",
   "metadata": {},
   "outputs": [
    {
     "name": "stdout",
     "output_type": "stream",
     "text": [
      "Forward:56, 50\n",
      "Turn Left:168, 150\n",
      "Forward:56, 50\n"
     ]
    }
   ],
   "source": [
    "cmd = np.array([\"1|56|50\", \"3|168|150\"])\n",
    "ble.send_command(CMD.MOVE,cmd[0]) #forward 2 second\n",
    "print(ble.receive_string(ble.uuid['RX_STRING']))\n",
    "time.sleep(2)\n",
    "ble.send_command(CMD.MOVE,cmd[1]) #Turn ~180 degree\n",
    "print(ble.receive_string(ble.uuid['RX_STRING']))\n",
    "time.sleep(0.3)\n",
    "ble.send_command(CMD.MOVE,cmd[0]) #forward 2 second\n",
    "print(ble.receive_string(ble.uuid['RX_STRING']))\n",
    "time.sleep(2)\n",
    "ble.send_command(CMD.STOP,\"\")"
   ]
  },
  {
   "cell_type": "code",
   "execution_count": 218,
   "id": "b8eaffa7-1a01-4fbb-b78a-765ddb05f77e",
   "metadata": {},
   "outputs": [
    {
     "name": "stdout",
     "output_type": "stream",
     "text": [
      "STOP\n"
     ]
    }
   ],
   "source": [
    "ble.send_command(CMD.STOP,\"\")\n",
    "output1 = ble.receive_string(ble.uuid['RX_STRING'])\n",
    "print(output1)"
   ]
  },
  {
   "cell_type": "code",
   "execution_count": 24,
   "id": "a790e636-45f0-47ab-b133-97e5920dfca0",
   "metadata": {},
   "outputs": [
    {
     "name": "stdout",
     "output_type": "stream",
     "text": [
      "2024-03-13 16:25:17,601 |\u001b[32m INFO     \u001b[0m|: Disconnected from C0:89:C1:6D:24:4B\n"
     ]
    }
   ],
   "source": [
    "# Disconnect\n",
    "ble.disconnect()"
   ]
  },
  {
   "cell_type": "code",
   "execution_count": null,
   "id": "d4608f54-0a95-4604-bd60-51499399da64",
   "metadata": {},
   "outputs": [],
   "source": [
    "++ MbedOS Error Info ++\n",
    "Error Status: 0x80FF013D Code: 317 Module: 255\n",
    "Error Message: Fault exception\n",
    "Location: 0x11986\n",
    "Error Value: 0x10006F38\n",
    "Current Thread: main Id: 0x10005328 Entry: 0x2C81D StackSize: 0x1000 StackMem: 0x10006F98 SP: 0x10007EC8 \n",
    "For more info, visit: https://mbed.com/s/error?error=0x80FF013D&tgt=SFE_ARTEMIS_NANO\n",
    "-- MbedOS Error Info --"
   ]
  }
 ],
 "metadata": {
  "kernelspec": {
   "display_name": "Python 3 (ipykernel)",
   "language": "python",
   "name": "python3"
  },
  "language_info": {
   "codemirror_mode": {
    "name": "ipython",
    "version": 3
   },
   "file_extension": ".py",
   "mimetype": "text/x-python",
   "name": "python",
   "nbconvert_exporter": "python",
   "pygments_lexer": "ipython3",
   "version": "3.12.2"
  }
 },
 "nbformat": 4,
 "nbformat_minor": 5
}
