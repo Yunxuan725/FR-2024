{
 "cells": [
  {
   "cell_type": "code",
   "execution_count": 1,
   "id": "7e74f93b-f1d0-43d9-8bd5-0f69f3c4f330",
   "metadata": {},
   "outputs": [],
   "source": [
    "%load_ext autoreload\n",
    "%autoreload 2\n",
    "\n",
    "import sys\n",
    "from ble import get_ble_controller\n",
    "from base_ble import LOG\n",
    "from cmd_types import CMD\n",
    "import time\n",
    "import numpy as np\n",
    "import matplotlib.pyplot as plt\n",
    "\n",
    "LOG.propagate = False"
   ]
  },
  {
   "cell_type": "code",
   "execution_count": 2,
   "id": "cfc347f2-f810-466f-84a0-454992a78c3f",
   "metadata": {},
   "outputs": [
    {
     "name": "stdout",
     "output_type": "stream",
     "text": [
      "2024-03-13 14:27:17,429 |\u001b[32m INFO     \u001b[0m|: info\n",
      "2024-03-13 14:27:17,433 |\u001b[33m WARNING  \u001b[0m|: warning\n",
      "2024-03-13 14:27:17,437 |\u001b[31m ERROR    \u001b[0m|: error\n",
      "2024-03-13 14:27:17,437 |\u001b[31m\u001b[47m\u001b[1m CRITICAL \u001b[0m|: critical\n"
     ]
    }
   ],
   "source": [
    "LOG.debug(\"debug\")\n",
    "LOG.info(\"info\")\n",
    "LOG.warning(\"warning\")\n",
    "LOG.error(\"error\")\n",
    "LOG.critical(\"critical\")"
   ]
  },
  {
   "cell_type": "code",
   "execution_count": 20,
   "id": "b20ec1d6-b627-40b3-be9c-c6ec0b215b56",
   "metadata": {},
   "outputs": [
    {
     "name": "stdout",
     "output_type": "stream",
     "text": [
      "2024-03-13 15:04:26,255 |\u001b[32m INFO     \u001b[0m|: Looking for Artemis Nano Peripheral Device: c0:89:c1:6d:24:4b\n",
      "2024-03-13 15:04:30,803 |\u001b[32m INFO     \u001b[0m|: Connected to c0:89:c1:6d:24:4b\n"
     ]
    }
   ],
   "source": [
    "# Get ArtemisBLEController object\n",
    "ble = get_ble_controller()\n",
    "\n",
    "# Connect to the Artemis Device\n",
    "ble.connect()"
   ]
  },
  {
   "cell_type": "code",
   "execution_count": 21,
   "id": "36762508-0290-48c0-a9fe-e06b4e87d579",
   "metadata": {},
   "outputs": [
    {
     "name": "stdout",
     "output_type": "stream",
     "text": [
      "Robot says: HiHello :)\n"
     ]
    }
   ],
   "source": [
    "ble.send_command(CMD.ECHO, \"HiHello\")\n",
    "output1 = ble.receive_string(ble.uuid['RX_STRING'])\n",
    "print(output1)"
   ]
  },
  {
   "cell_type": "code",
   "execution_count": 23,
   "id": "b96a06b3-68a7-448b-a608-5c08012cd800",
   "metadata": {},
   "outputs": [
    {
     "name": "stdout",
     "output_type": "stream",
     "text": [
      "STOP\n",
      "2024-03-13 15:19:29,141 |\u001b[32m INFO     \u001b[0m|: Disconnected from C0:89:C1:6D:24:4B\n"
     ]
    }
   ],
   "source": [
    "ble.send_command(CMD.STOP,\"\")\n",
    "output1 = ble.receive_string(ble.uuid['RX_STRING'])\n",
    "print(output1)"
   ]
  },
  {
   "cell_type": "code",
   "execution_count": 22,
   "id": "2b885616-5c73-43a7-8283-888b91f7f7a6",
   "metadata": {},
   "outputs": [
    {
     "name": "stdout",
     "output_type": "stream",
     "text": [
      "Forward 60, 60\n"
     ]
    }
   ],
   "source": [
    "ble.send_command(CMD.FORWARD,\"1|60|60\") #Stop = 0, forward = 1, backward = 2, turn left = 3, turn right = 4\n",
    "output1 = ble.receive_string(ble.uuid['RX_STRING'])\n",
    "print(output1)\n"
   ]
  },
  {
   "cell_type": "code",
   "execution_count": null,
   "id": "7deb9aac-8301-4f8d-8af8-f811bf945246",
   "metadata": {},
   "outputs": [],
   "source": [
    "ble.send_command(CMD.FORWARD,\"F|60|60\")"
   ]
  },
  {
   "cell_type": "code",
   "execution_count": null,
   "id": "9aa453d6-dfe3-4a9d-948c-dd0712dd6b8e",
   "metadata": {},
   "outputs": [],
   "source": []
  },
  {
   "cell_type": "code",
   "execution_count": null,
   "id": "7e7cdc83-af46-48dd-8e9a-dfe8495e05dc",
   "metadata": {},
   "outputs": [],
   "source": []
  },
  {
   "cell_type": "code",
   "execution_count": null,
   "id": "b8eaffa7-1a01-4fbb-b78a-765ddb05f77e",
   "metadata": {},
   "outputs": [],
   "source": []
  },
  {
   "cell_type": "code",
   "execution_count": 33,
   "id": "a790e636-45f0-47ab-b133-97e5920dfca0",
   "metadata": {},
   "outputs": [
    {
     "name": "stdout",
     "output_type": "stream",
     "text": [
      "2024-03-12 04:30:15,526 |\u001b[32m INFO     \u001b[0m|: Disconnected from C0:89:C1:6D:24:4B\n"
     ]
    }
   ],
   "source": [
    "# Disconnect\n",
    "ble.disconnect()"
   ]
  },
  {
   "cell_type": "code",
   "execution_count": null,
   "id": "d4608f54-0a95-4604-bd60-51499399da64",
   "metadata": {},
   "outputs": [],
   "source": []
  }
 ],
 "metadata": {
  "kernelspec": {
   "display_name": "Python 3 (ipykernel)",
   "language": "python",
   "name": "python3"
  },
  "language_info": {
   "codemirror_mode": {
    "name": "ipython",
    "version": 3
   },
   "file_extension": ".py",
   "mimetype": "text/x-python",
   "name": "python",
   "nbconvert_exporter": "python",
   "pygments_lexer": "ipython3",
   "version": "3.12.3"
  }
 },
 "nbformat": 4,
 "nbformat_minor": 5
}
