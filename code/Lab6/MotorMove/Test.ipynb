{
 "cells": [
  {
   "cell_type": "code",
   "execution_count": 1,
   "id": "7e74f93b-f1d0-43d9-8bd5-0f69f3c4f330",
   "metadata": {},
   "outputs": [
    {
     "name": "stdout",
     "output_type": "stream",
     "text": [
      "2024-04-18 21:02:13,103 |\u001b[32m INFO     \u001b[0m|: info\n",
      "2024-04-18 21:02:13,105 |\u001b[33m WARNING  \u001b[0m|: warning\n",
      "2024-04-18 21:02:13,106 |\u001b[31m ERROR    \u001b[0m|: error\n",
      "2024-04-18 21:02:13,107 |\u001b[31m\u001b[47m\u001b[1m CRITICAL \u001b[0m|: critical\n"
     ]
    }
   ],
   "source": [
    "%load_ext autoreload\n",
    "%autoreload 2\n",
    "import sys\n",
    "from ble import get_ble_controller\n",
    "from base_ble import LOG\n",
    "from cmd_types import CMD\n",
    "import time\n",
    "import numpy as np\n",
    "import matplotlib.pyplot as plt\n",
    "\n",
    "LOG.propagate = False\n",
    "LOG.debug(\"debug\")\n",
    "LOG.info(\"info\")\n",
    "LOG.warning(\"warning\")\n",
    "LOG.error(\"error\")\n",
    "LOG.critical(\"critical\")"
   ]
  },
  {
   "cell_type": "code",
   "execution_count": 2,
   "id": "b20ec1d6-b627-40b3-be9c-c6ec0b215b56",
   "metadata": {},
   "outputs": [
    {
     "name": "stdout",
     "output_type": "stream",
     "text": [
      "2024-04-18 21:02:15,041 |\u001b[32m INFO     \u001b[0m|: Looking for Artemis Nano Peripheral Device: c0:89:c1:6d:24:4b\n",
      "2024-04-18 21:02:19,634 |\u001b[32m INFO     \u001b[0m|: Connected to c0:89:c1:6d:24:4b\n"
     ]
    },
    {
     "name": "stderr",
     "output_type": "stream",
     "text": [
      "C:\\Users\\xyx07\\Fast_Robot\\Webpage\\FR-2024\\code\\Lab6\\MotorMove\\base_ble.py:104: FutureWarning: This method will be removed future version, pass the callback to the BleakClient constructor instead.\n",
      "  self.client.set_disconnected_callback(self.disconnect_handler)\n"
     ]
    }
   ],
   "source": [
    "# Get ArtemisBLEController object\n",
    "ble = get_ble_controller()\n",
    "\n",
    "# Connect to the Artemis Device\n",
    "ble.connect()"
   ]
  },
  {
   "cell_type": "code",
   "execution_count": 3,
   "id": "36762508-0290-48c0-a9fe-e06b4e87d579",
   "metadata": {},
   "outputs": [
    {
     "name": "stdout",
     "output_type": "stream",
     "text": [
      "Robot says -> HiHello :)\n"
     ]
    }
   ],
   "source": [
    "ble.send_command(CMD.ECHO, \"HiHello\")\n",
    "output1 = ble.receive_string(ble.uuid['RX_STRING'])\n",
    "print(output1)"
   ]
  },
  {
   "cell_type": "code",
   "execution_count": 4,
   "id": "b96a06b3-68a7-448b-a608-5c08012cd800",
   "metadata": {},
   "outputs": [],
   "source": [
    "ble.send_command(CMD.MOVE,\"180|-180\")"
   ]
  },
  {
   "cell_type": "code",
   "execution_count": 5,
   "id": "44572551-b61e-4736-87d6-fb7725488707",
   "metadata": {},
   "outputs": [],
   "source": [
    "ble.send_command(CMD.MOVE,\"0|0\")"
   ]
  },
  {
   "cell_type": "code",
   "execution_count": 6,
   "id": "6392ab8e-7eb9-479a-a487-99c679644f55",
   "metadata": {},
   "outputs": [],
   "source": [
    "raw_message=[]\n",
    "#add more arrays if needed\n",
    "num = []\n",
    "timeIMU = [] #in seconds\n",
    "yaw = []\n",
    "def clear_data():\n",
    "    # Clear all the sensor data arrays\n",
    "    timeIMU.clear()\n",
    "    yaw.clear()\n",
    "def notification_handler(uuid, byte_array):\n",
    "    global timeIMU,xAcc,yAcc,zAcc,xGyr,yGyr,zGyr\n",
    "    raw_message.append(byte_array)\n",
    "    message = ble.bytearray_to_string(byte_array)\n",
    "    if message=='IMU data received.':\n",
    "        print(message)\n",
    "    else: \n",
    "        readings = message.split('|')\n",
    "        num.clear()\n",
    "        for reading in readings:\n",
    "            label, value = reading.split(':')\n",
    "            num.append(float(value))\n",
    "        if len(num)==2:\n",
    "            if label==\"Yaw\":\n",
    "                timeIMU.append(num[0]/1000000)\n",
    "                yaw.append(num[1])"
   ]
  },
  {
   "cell_type": "code",
   "execution_count": 7,
   "id": "19b17783-f34d-48cc-9a26-9a63bcde95a2",
   "metadata": {},
   "outputs": [],
   "source": [
    "ble.start_notify(ble.uuid['RX_STRING'], notification_handler)"
   ]
  },
  {
   "cell_type": "code",
   "execution_count": 8,
   "id": "2b885616-5c73-43a7-8283-888b91f7f7a6",
   "metadata": {},
   "outputs": [],
   "source": [
    "clear_data()\n",
    "ble.send_command(CMD.MOVE,\"120|-120\")\n",
    "ble.send_command(CMD.GET_ANGLE, \"\")"
   ]
  },
  {
   "cell_type": "code",
   "execution_count": 9,
   "id": "dc14bf45-6f98-4233-ae2d-ed86b56b3df2",
   "metadata": {},
   "outputs": [
    {
     "name": "stdout",
     "output_type": "stream",
     "text": [
      "2024-04-18 21:04:00,376 |\u001b[32m INFO     \u001b[0m|: Disconnected from C0:89:C1:6D:24:4B\n"
     ]
    }
   ],
   "source": [
    "ble.send_command(CMD.MOVE,\"0|0\")"
   ]
  },
  {
   "cell_type": "code",
   "execution_count": 10,
   "id": "1b228d00-cfee-44db-957f-a6d5833ec4fb",
   "metadata": {},
   "outputs": [
    {
     "ename": "Exception",
     "evalue": "Not connected to a BLE device",
     "output_type": "error",
     "traceback": [
      "\u001b[1;31m---------------------------------------------------------------------------\u001b[0m",
      "\u001b[1;31mException\u001b[0m                                 Traceback (most recent call last)",
      "Cell \u001b[1;32mIn[10], line 1\u001b[0m\n\u001b[1;32m----> 1\u001b[0m \u001b[43mble\u001b[49m\u001b[38;5;241;43m.\u001b[39;49m\u001b[43mstop_notify\u001b[49m\u001b[43m(\u001b[49m\u001b[43mble\u001b[49m\u001b[38;5;241;43m.\u001b[39;49m\u001b[43muuid\u001b[49m\u001b[43m[\u001b[49m\u001b[38;5;124;43m'\u001b[39;49m\u001b[38;5;124;43mRX_STRING\u001b[39;49m\u001b[38;5;124;43m'\u001b[39;49m\u001b[43m]\u001b[49m\u001b[43m)\u001b[49m\n",
      "File \u001b[1;32m~\\Fast_Robot\\Webpage\\FR-2024\\code\\Lab6\\MotorMove\\ble.py:84\u001b[0m, in \u001b[0;36mBaseBLEController.stop_notify\u001b[1;34m(self, uuid)\u001b[0m\n\u001b[0;32m     83\u001b[0m \u001b[38;5;28;01mdef\u001b[39;00m \u001b[38;5;21mstop_notify\u001b[39m(\u001b[38;5;28mself\u001b[39m, uuid):\n\u001b[1;32m---> 84\u001b[0m     \u001b[38;5;28;43mself\u001b[39;49m\u001b[38;5;241;43m.\u001b[39;49m\u001b[43m_wait\u001b[49m\u001b[43m(\u001b[49m\u001b[38;5;28;43mself\u001b[39;49m\u001b[38;5;241;43m.\u001b[39;49m\u001b[43mdevice\u001b[49m\u001b[38;5;241;43m.\u001b[39;49m\u001b[43m_stop_notify\u001b[49m\u001b[43m(\u001b[49m\u001b[43muuid\u001b[49m\u001b[43m)\u001b[49m\u001b[43m)\u001b[49m\n",
      "File \u001b[1;32m~\\Fast_Robot\\Webpage\\FR-2024\\code\\Lab6\\MotorMove\\base_ble.py:27\u001b[0m, in \u001b[0;36mwait_b\u001b[1;34m(coroutine)\u001b[0m\n\u001b[0;32m     26\u001b[0m \u001b[38;5;28;01mdef\u001b[39;00m \u001b[38;5;21mwait_b\u001b[39m(coroutine):\n\u001b[1;32m---> 27\u001b[0m     \u001b[38;5;28;01mreturn\u001b[39;00m \u001b[43masyncio\u001b[49m\u001b[38;5;241;43m.\u001b[39;49m\u001b[43mrun\u001b[49m\u001b[43m(\u001b[49m\u001b[43mcoroutine\u001b[49m\u001b[43m)\u001b[49m\n",
      "File \u001b[1;32m~\\Fast_Robot\\FastRobots_ble\\Lib\\site-packages\\nest_asyncio.py:30\u001b[0m, in \u001b[0;36m_patch_asyncio.<locals>.run\u001b[1;34m(main, debug)\u001b[0m\n\u001b[0;32m     28\u001b[0m task \u001b[38;5;241m=\u001b[39m asyncio\u001b[38;5;241m.\u001b[39mensure_future(main)\n\u001b[0;32m     29\u001b[0m \u001b[38;5;28;01mtry\u001b[39;00m:\n\u001b[1;32m---> 30\u001b[0m     \u001b[38;5;28;01mreturn\u001b[39;00m \u001b[43mloop\u001b[49m\u001b[38;5;241;43m.\u001b[39;49m\u001b[43mrun_until_complete\u001b[49m\u001b[43m(\u001b[49m\u001b[43mtask\u001b[49m\u001b[43m)\u001b[49m\n\u001b[0;32m     31\u001b[0m \u001b[38;5;28;01mfinally\u001b[39;00m:\n\u001b[0;32m     32\u001b[0m     \u001b[38;5;28;01mif\u001b[39;00m \u001b[38;5;129;01mnot\u001b[39;00m task\u001b[38;5;241m.\u001b[39mdone():\n",
      "File \u001b[1;32m~\\Fast_Robot\\FastRobots_ble\\Lib\\site-packages\\nest_asyncio.py:98\u001b[0m, in \u001b[0;36m_patch_loop.<locals>.run_until_complete\u001b[1;34m(self, future)\u001b[0m\n\u001b[0;32m     95\u001b[0m \u001b[38;5;28;01mif\u001b[39;00m \u001b[38;5;129;01mnot\u001b[39;00m f\u001b[38;5;241m.\u001b[39mdone():\n\u001b[0;32m     96\u001b[0m     \u001b[38;5;28;01mraise\u001b[39;00m \u001b[38;5;167;01mRuntimeError\u001b[39;00m(\n\u001b[0;32m     97\u001b[0m         \u001b[38;5;124m'\u001b[39m\u001b[38;5;124mEvent loop stopped before Future completed.\u001b[39m\u001b[38;5;124m'\u001b[39m)\n\u001b[1;32m---> 98\u001b[0m \u001b[38;5;28;01mreturn\u001b[39;00m \u001b[43mf\u001b[49m\u001b[38;5;241;43m.\u001b[39;49m\u001b[43mresult\u001b[49m\u001b[43m(\u001b[49m\u001b[43m)\u001b[49m\n",
      "File \u001b[1;32m~\\AppData\\Local\\Programs\\Python\\Python312\\Lib\\asyncio\\futures.py:203\u001b[0m, in \u001b[0;36mFuture.result\u001b[1;34m(self)\u001b[0m\n\u001b[0;32m    201\u001b[0m \u001b[38;5;28mself\u001b[39m\u001b[38;5;241m.\u001b[39m__log_traceback \u001b[38;5;241m=\u001b[39m \u001b[38;5;28;01mFalse\u001b[39;00m\n\u001b[0;32m    202\u001b[0m \u001b[38;5;28;01mif\u001b[39;00m \u001b[38;5;28mself\u001b[39m\u001b[38;5;241m.\u001b[39m_exception \u001b[38;5;129;01mis\u001b[39;00m \u001b[38;5;129;01mnot\u001b[39;00m \u001b[38;5;28;01mNone\u001b[39;00m:\n\u001b[1;32m--> 203\u001b[0m     \u001b[38;5;28;01mraise\u001b[39;00m \u001b[38;5;28mself\u001b[39m\u001b[38;5;241m.\u001b[39m_exception\u001b[38;5;241m.\u001b[39mwith_traceback(\u001b[38;5;28mself\u001b[39m\u001b[38;5;241m.\u001b[39m_exception_tb)\n\u001b[0;32m    204\u001b[0m \u001b[38;5;28;01mreturn\u001b[39;00m \u001b[38;5;28mself\u001b[39m\u001b[38;5;241m.\u001b[39m_result\n",
      "File \u001b[1;32m~\\AppData\\Local\\Programs\\Python\\Python312\\Lib\\asyncio\\tasks.py:314\u001b[0m, in \u001b[0;36mTask.__step_run_and_handle_result\u001b[1;34m(***failed resolving arguments***)\u001b[0m\n\u001b[0;32m    310\u001b[0m \u001b[38;5;28;01mtry\u001b[39;00m:\n\u001b[0;32m    311\u001b[0m     \u001b[38;5;28;01mif\u001b[39;00m exc \u001b[38;5;129;01mis\u001b[39;00m \u001b[38;5;28;01mNone\u001b[39;00m:\n\u001b[0;32m    312\u001b[0m         \u001b[38;5;66;03m# We use the `send` method directly, because coroutines\u001b[39;00m\n\u001b[0;32m    313\u001b[0m         \u001b[38;5;66;03m# don't have `__iter__` and `__next__` methods.\u001b[39;00m\n\u001b[1;32m--> 314\u001b[0m         result \u001b[38;5;241m=\u001b[39m \u001b[43mcoro\u001b[49m\u001b[38;5;241;43m.\u001b[39;49m\u001b[43msend\u001b[49m\u001b[43m(\u001b[49m\u001b[38;5;28;43;01mNone\u001b[39;49;00m\u001b[43m)\u001b[49m\n\u001b[0;32m    315\u001b[0m     \u001b[38;5;28;01melse\u001b[39;00m:\n\u001b[0;32m    316\u001b[0m         result \u001b[38;5;241m=\u001b[39m coro\u001b[38;5;241m.\u001b[39mthrow(exc)\n",
      "File \u001b[1;32m~\\Fast_Robot\\Webpage\\FR-2024\\code\\Lab6\\MotorMove\\base_ble.py:137\u001b[0m, in \u001b[0;36mBLEAsyncDevice._stop_notify\u001b[1;34m(self, uuid)\u001b[0m\n\u001b[0;32m    135\u001b[0m     \u001b[38;5;28;01mawait\u001b[39;00m \u001b[38;5;28mself\u001b[39m\u001b[38;5;241m.\u001b[39mclient\u001b[38;5;241m.\u001b[39mstop_notify(uuid)\n\u001b[0;32m    136\u001b[0m \u001b[38;5;28;01melse\u001b[39;00m:\n\u001b[1;32m--> 137\u001b[0m     \u001b[38;5;28;01mraise\u001b[39;00m \u001b[38;5;167;01mException\u001b[39;00m(\u001b[38;5;124m\"\u001b[39m\u001b[38;5;124mNot connected to a BLE device\u001b[39m\u001b[38;5;124m\"\u001b[39m)\n",
      "\u001b[1;31mException\u001b[0m: Not connected to a BLE device"
     ]
    }
   ],
   "source": [
    "ble.stop_notify(ble.uuid['RX_STRING'])"
   ]
  },
  {
   "cell_type": "code",
   "execution_count": 11,
   "id": "b8eaffa7-1a01-4fbb-b78a-765ddb05f77e",
   "metadata": {},
   "outputs": [
    {
     "name": "stdout",
     "output_type": "stream",
     "text": [
      "It takes: 3.675s to collect data.\n",
      "Sample rate is about 280 samples/s.\n"
     ]
    }
   ],
   "source": [
    "print(f\"It takes: {round(timeIMU[-1]-timeIMU[0],3)}s to collect data.\")\n",
    "print(f\"Sample rate is about {round(len(timeIMU)/(timeIMU[-1]-timeIMU[0]))} samples/s.\")"
   ]
  },
  {
   "cell_type": "code",
   "execution_count": 13,
   "id": "cc2ce492-7c8f-4545-b889-198040e3e0d8",
   "metadata": {},
   "outputs": [
    {
     "data": {
      "image/png": "[encoded data removed]",
      "text/plain": [
       "<Figure size 640x480 with 1 Axes>"
      ]
     },
     "metadata": {},
     "output_type": "display_data"
    }
   ],
   "source": [
    "plt.scatter(timeIMU, yaw, label = 'yaw', alpha=0.7)\n",
    "plt.xlabel('time (s)')\n",
    "plt.title('Accelerometer Readings')\n",
    "plt.legend();"
   ]
  },
  {
   "cell_type": "code",
   "execution_count": 24,
   "id": "a790e636-45f0-47ab-b133-97e5920dfca0",
   "metadata": {},
   "outputs": [
    {
     "name": "stdout",
     "output_type": "stream",
     "text": [
      "2024-03-13 16:25:17,601 |\u001b[32m INFO     \u001b[0m|: Disconnected from C0:89:C1:6D:24:4B\n"
     ]
    }
   ],
   "source": [
    "# Disconnect\n",
    "ble.disconnect()"
   ]
  }
 ],
 "metadata": {
  "kernelspec": {
   "display_name": "Python 3 (ipykernel)",
   "language": "python",
   "name": "python3"
  },
  "language_info": {
   "codemirror_mode": {
    "name": "ipython",
    "version": 3
   },
   "file_extension": ".py",
   "mimetype": "text/x-python",
   "name": "python",
   "nbconvert_exporter": "python",
   "pygments_lexer": "ipython3",
   "version": "3.12.3"
  }
 },
 "nbformat": 4,
 "nbformat_minor": 5
}
