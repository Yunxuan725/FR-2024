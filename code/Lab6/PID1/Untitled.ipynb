{
 "cells": [
  {
   "cell_type": "code",
   "execution_count": 95,
   "id": "a067dbe5-c3fc-4083-910b-3d050c6e6321",
   "metadata": {},
   "outputs": [],
   "source": [
    "from matplotlib import pyplot as plt\n",
    "import numpy as np\n",
    "import math\n",
    "\n",
    "'''\n",
    "ECE 4160/5160, MAE 4910/5910: Designing a PID controller\n",
    "Example: I=1, c=0.2\n",
    "'''\n",
    "\n",
    "class System:\n",
    "\n",
    "  def __init__(self,\n",
    "               A=[[0, 1],[0,-0.2]],\n",
    "               B=[0,1],\n",
    "               x0=[0, 0],\n",
    "               sigma = 0,\n",
    "               dt=0.005):\n",
    "\n",
    "    self.x=np.array(x0)\n",
    "    self.t=0\n",
    "    self.dt=dt\n",
    "\n",
    "    self.sigma = sigma\n",
    "\n",
    "    self.A = np.array(A)\n",
    "    self.B = np.array(B)\n",
    "\n",
    "    self.x_hist=[x0]\n",
    "    self.y_hist=[0]\n",
    "    self.t_hist=[self.t]\n",
    "    self.e_hist=[0]\n",
    "\n",
    "    '''\n",
    "    Controller parameters\n",
    "    '''\n",
    "    self.I=0\n",
    "    self.dF=0\n",
    "\n",
    "  def step(self,u):\n",
    "    self.x =  self.x + self.dt * ( np.dot(self.A,self.x) + u*self.B )\n",
    "    self.t += self.dt\n",
    "    self.t_hist.append(self.t)\n",
    "    self.x_hist.append(tuple(self.x))\n",
    "    self.y_hist.append(self.x[1]+np.random.normal(scale=self.sigma))\n",
    "\n",
    "\n",
    "  def PID(self,setpoint, KP=0, KI=0, KD=0, alpha = 1):\n",
    "    '''\n",
    "    1) get error signal\n",
    "    2) Update integral\n",
    "    3) Compute d for derivative\n",
    "    4) Compute and return u\n",
    "    '''\n",
    "    e = setpoint - self.y_hist[-1]\n",
    "    self.e_hist.append(e)\n",
    "\n",
    "    self.I += e * self.dt\n",
    "\n",
    "    if len(self.e_hist) >= 2:\n",
    "      d = -(self.e_hist[-1] - self.e_hist[-2]) / self.dt\n",
    "      self.dF = alpha*d + (1-alpha)*self.dF\n",
    "    else:\n",
    "      self.dF = 0\n",
    "\n",
    "    return KP*e + KD*self.dF + KI*self.I\n",
    "\n",
    "  def runPID(self, setpoint, KP=0, KI=0, KD=0, Tfinal=10, alpha=0):\n",
    "    while self.t < Tfinal:\n",
    "      u=self.PID(setpoint,1.0*KP,1.0*KI,1.0*KD,alpha=alpha)\n",
    "      self.step(u)"
   ]
  },
  {
   "cell_type": "code",
   "execution_count": 24,
   "id": "94ffa0fd-1490-47ad-acb8-741a77d9c128",
   "metadata": {},
   "outputs": [
    {
     "data": {
      "text/plain": [
       "130.0"
      ]
     },
     "execution_count": 24,
     "metadata": {},
     "output_type": "execute_result"
    }
   ],
   "source": [
    "x = -590\n",
    "y = math.fmod(x + 180.0, 360.0)  # Shift range to [0, 360)\n",
    "if y < 0:\n",
    "    y += 360.0  # Correct negative result to ensure it is positive\n",
    "y -= 180.0 \n",
    "y"
   ]
  },
  {
   "cell_type": "code",
   "execution_count": 32,
   "id": "d6aab47b-3363-4e69-8778-cbfa6f7f516a",
   "metadata": {},
   "outputs": [
    {
     "data": {
      "text/plain": [
       "170.0"
      ]
     },
     "execution_count": 32,
     "metadata": {},
     "output_type": "execute_result"
    }
   ],
   "source": [
    "yaw = -190\n",
    "yaw = math.fmod(yaw + 180.0, 360.0) ;\n",
    "if (yaw < 0): yaw+=360;\n",
    "yaw-180"
   ]
  },
  {
   "cell_type": "code",
   "execution_count": 98,
   "id": "86f10cc6-39fc-4f7d-9c01-2e0af5d71ec9",
   "metadata": {},
   "outputs": [
    {
     "data": {
      "image/png": "[encoded data removed]",
      "text/plain": [
       "<Figure size 640x480 with 1 Axes>"
      ]
     },
     "metadata": {},
     "output_type": "display_data"
    }
   ],
   "source": [
    "sys=System(sigma=0)\n",
    "\n",
    "setpoint= 10\n",
    "final_time=100\n",
    "\n",
    "sys.runPID(setpoint,KP=5,KI=1,KD=0, alpha=1,Tfinal=final_time)\n",
    "\n",
    "#Plot Controller Output\n",
    "#plt.plot(sys.t_hist,sys.y_hist)\n",
    "#Plot Actual State\n",
    "plt.plot(sys.t_hist,tuple(x[1] for x in sys.x_hist),'r--')\n",
    "plt.xlim([0,2])\n",
    "\n",
    "#Plot Setpoint\n",
    "plt.plot([0,final_time],[setpoint,setpoint],'k:')\n",
    "plt.grid()"
   ]
  },
  {
   "cell_type": "code",
   "execution_count": null,
   "id": "93b06cfc-7770-4b82-9d22-f6757263d6cb",
   "metadata": {},
   "outputs": [],
   "source": []
  }
 ],
 "metadata": {
  "kernelspec": {
   "display_name": "Python 3 (ipykernel)",
   "language": "python",
   "name": "python3"
  },
  "language_info": {
   "codemirror_mode": {
    "name": "ipython",
    "version": 3
   },
   "file_extension": ".py",
   "mimetype": "text/x-python",
   "name": "python",
   "nbconvert_exporter": "python",
   "pygments_lexer": "ipython3",
   "version": "3.12.3"
  }
 },
 "nbformat": 4,
 "nbformat_minor": 5
}
