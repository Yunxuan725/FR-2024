{
 "cells": [
  {
   "cell_type": "code",
   "execution_count": 1,
   "id": "7e74f93b-f1d0-43d9-8bd5-0f69f3c4f330",
   "metadata": {},
   "outputs": [],
   "source": [
    "%load_ext autoreload\n",
    "%autoreload 2\n",
    "\n",
    "import sys\n",
    "from ble import get_ble_controller\n",
    "from base_ble import LOG\n",
    "from cmd_types import CMD\n",
    "import time\n",
    "import numpy as np\n",
    "import matplotlib.pyplot as plt\n",
    "\n",
    "LOG.propagate = False"
   ]
  },
  {
   "cell_type": "code",
   "execution_count": 2,
   "id": "cfc347f2-f810-466f-84a0-454992a78c3f",
   "metadata": {},
   "outputs": [
    {
     "name": "stdout",
     "output_type": "stream",
     "text": [
      "2024-03-11 01:53:09,722 |\u001b[32m INFO     \u001b[0m|: info\n",
      "2024-03-11 01:53:09,726 |\u001b[33m WARNING  \u001b[0m|: warning\n",
      "2024-03-11 01:53:09,726 |\u001b[31m ERROR    \u001b[0m|: error\n",
      "2024-03-11 01:53:09,726 |\u001b[31m\u001b[47m\u001b[1m CRITICAL \u001b[0m|: critical\n"
     ]
    }
   ],
   "source": [
    "LOG.debug(\"debug\")\n",
    "LOG.info(\"info\")\n",
    "LOG.warning(\"warning\")\n",
    "LOG.error(\"error\")\n",
    "LOG.critical(\"critical\")"
   ]
  },
  {
   "cell_type": "code",
   "execution_count": 32,
   "id": "b20ec1d6-b627-40b3-be9c-c6ec0b215b56",
   "metadata": {},
   "outputs": [
    {
     "name": "stdout",
     "output_type": "stream",
     "text": [
      "2024-03-11 02:04:05,590 |\u001b[32m INFO     \u001b[0m|: Looking for Artemis Nano Peripheral Device: c0:89:c1:6d:24:4b\n",
      "2024-03-11 02:04:10,496 |\u001b[32m INFO     \u001b[0m|: Connected to c0:89:c1:6d:24:4b\n"
     ]
    }
   ],
   "source": [
    "# Get ArtemisBLEController object\n",
    "ble = get_ble_controller()\n",
    "\n",
    "# Connect to the Artemis Device\n",
    "ble.connect()"
   ]
  },
  {
   "cell_type": "code",
   "execution_count": 33,
   "id": "36762508-0290-48c0-a9fe-e06b4e87d579",
   "metadata": {},
   "outputs": [
    {
     "name": "stdout",
     "output_type": "stream",
     "text": [
      "Robot says -> HiHello :)\n"
     ]
    }
   ],
   "source": [
    "ble.send_command(CMD.ECHO, \"HiHello\")\n",
    "output1 = ble.receive_string(ble.uuid['RX_STRING'])\n",
    "print(output1)"
   ]
  },
  {
   "cell_type": "code",
   "execution_count": 5,
   "id": "4879a0e0-1cf7-466a-9ad3-699999d52665",
   "metadata": {},
   "outputs": [],
   "source": [
    "raw_message=[]\n",
    "#add more arrays if needed\n",
    "num = []\n",
    "time = [] #in seconds\n",
    "distance = [] \n",
    "def notification_handler(uuid, byte_array):\n",
    "    global time,distance\n",
    "    raw_message.append(byte_array)\n",
    "    # Extracts the time portion in seconds from the byte array\n",
    "    message = ble.bytearray_to_string(byte_array)\n",
    "    readings = message.split('|')\n",
    "    num.clear()\n",
    "    for reading in readings:\n",
    "        label, value = reading.split(':')\n",
    "        num.append(float(value))\n",
    "    #Add more arrays if needed\n",
    "    time.append(num[0]/1000)\n",
    "    distance.append(num[1])\n",
    "    #print(f\"Time: {float(num[0])/1000}s; xAcc: {num[1]}; yAcc: {num[2]}; xAcc: {num[1]}; xAcc: {num[1]}; xAcc: {num[1]}; xAcc: {num[1]}\")"
   ]
  },
  {
   "cell_type": "code",
   "execution_count": 6,
   "id": "ce142dd0-7b97-4428-9994-3baf678229f5",
   "metadata": {},
   "outputs": [],
   "source": [
    "actualDis = np.array([10,20,30,40,50,60,80,100,120,130,140,150])\n",
    "measuredDis = np.zeros(len(actualDis))\n",
    "stdDis = np.zeros(len(actualDis))\n",
    "ble.start_notify(ble.uuid['RX_STRING'], notification_handler)"
   ]
  },
  {
   "cell_type": "code",
   "execution_count": 41,
   "id": "539abc94-ae62-489f-ab18-6511cacebb8c",
   "metadata": {},
   "outputs": [],
   "source": [
    "ble.send_command(CMD.GET_DISTANCE, \"\")"
   ]
  },
  {
   "cell_type": "code",
   "execution_count": 42,
   "id": "51bf3605-8fb4-47e3-a8f8-ecd19b99ae0c",
   "metadata": {},
   "outputs": [
    {
     "name": "stdout",
     "output_type": "stream",
     "text": [
      "The actual distance is 1500 mm\n",
      "The average measured distance over 31 samples is 1260.3225806451612 mm\n"
     ]
    }
   ],
   "source": [
    "i=11\n",
    "measuredDis[i] = np.mean(distance)\n",
    "stdDis[i] = np.std(distance)\n",
    "print(f\"The actual distance is {actualDis[i]*10} mm\")\n",
    "print(f\"The average measured distance over {len(time)} samples is {measuredDis[i]} mm\")\n",
    "time.clear();\n",
    "distance.clear();"
   ]
  },
  {
   "cell_type": "code",
   "execution_count": 64,
   "id": "d078e605-8b04-4700-802d-16ff70d9d324",
   "metadata": {},
   "outputs": [
    {
     "data": {
      "image/png": "[encoded data removed]",
      "text/plain": [
       "<Figure size 640x480 with 1 Axes>"
      ]
     },
     "metadata": {},
     "output_type": "display_data"
    },
    {
     "name": "stdout",
     "output_type": "stream",
     "text": [
      "The standard deviations in mm are [  1.5    0.96   1.01   0.91   0.73   1.25   1.52   8.15   4.14   7.91\n",
      "  21.19 310.78]\n"
     ]
    }
   ],
   "source": [
    "plt.plot(actualDis/100, stdDis, alpha=0.7)\n",
    "plt.scatter(actualDis/100, stdDis, alpha=0.7)\n",
    "plt.xlabel('Actual distance (m)')\n",
    "plt.ylabel('Standard deviation (mm)')\n",
    "plt.ylim([0,10])\n",
    "plt.show();\n",
    "print(f\"The standard deviations in mm are {np.around(stdDis,2)}\")"
   ]
  },
  {
   "cell_type": "code",
   "execution_count": null,
   "id": "b44c6fed-4bca-4268-aece-78e66b500c7f",
   "metadata": {},
   "outputs": [],
   "source": [
    "plt.plot(actualDis/100, measuredDis/1000, alpha=0.7)\n",
    "plt.scatter(actualDis/100, measuredDis/1000, alpha=0.7)\n",
    "plt.xlabel('Actual distance (m)')\n",
    "plt.ylabel('Measured distance (m)')\n",
    "plt.title('ToF Readings')\n",
    "plt.show();\n",
    "print(f\"The standard deviations in mm are {np.around(stdDis,2)}\")"
   ]
  },
  {
   "cell_type": "code",
   "execution_count": null,
   "id": "1ae14b49-5333-41a8-be4e-89229d442fda",
   "metadata": {},
   "outputs": [],
   "source": []
  },
  {
   "cell_type": "code",
   "execution_count": null,
   "id": "6b12da25-becf-4cb1-8196-83074e9e65b6",
   "metadata": {},
   "outputs": [],
   "source": []
  },
  {
   "cell_type": "code",
   "execution_count": 21,
   "id": "6cf694b8-019d-4bba-880b-4a4573b4e717",
   "metadata": {},
   "outputs": [
    {
     "name": "stdout",
     "output_type": "stream",
     "text": [
      "The average ranging time of 21 samples is 3129 microseconds.\n"
     ]
    }
   ],
   "source": [
    "#print(f\"It takes: {round(time[-1]-time[0],3)}s to collect data.\")\n",
    "#print(f\"Sample rate is about {round(len(time)/(time[-1]-time[0]))} samples/s.\")\n",
    "print(f\"The average ranging time of {len(time)} samples is {round(np.mean(ranging))} microseconds.\")"
   ]
  },
  {
   "cell_type": "code",
   "execution_count": 17,
   "id": "a9dd75bf-c539-4ded-8464-34f07129d05d",
   "metadata": {},
   "outputs": [
    {
     "name": "stdout",
     "output_type": "stream",
     "text": [
      "Time: 16.13s; Distance(mm): 97.0; ranging time(us): 1281.0\n",
      "Time: 16.181s; Distance(mm): 98.0; ranging time(us): 5369.0\n",
      "Time: 16.279s; Distance(mm): 101.0; ranging time(us): 3365.0\n",
      "Time: 16.48s; Distance(mm): 99.0; ranging time(us): 1282.0\n",
      "Time: 16.531s; Distance(mm): 100.0; ranging time(us): 5339.0\n",
      "Time: 16.629s; Distance(mm): 99.0; ranging time(us): 3310.0\n",
      "Time: 17.028s; Distance(mm): 97.0; ranging time(us): 1281.0\n",
      "Time: 17.077s; Distance(mm): 99.0; ranging time(us): 3305.0\n",
      "Time: 17.175s; Distance(mm): 100.0; ranging time(us): 3299.0\n",
      "Time: 17.327s; Distance(mm): 98.0; ranging time(us): 3313.0\n",
      "Time: 18.113s; Distance(mm): 100.0; ranging time(us): 1285.0\n",
      "Time: 18.211s; Distance(mm): 99.0; ranging time(us): 5368.0\n",
      "Time: 18.261s; Distance(mm): 98.0; ranging time(us): 4352.0\n",
      "Time: 18.311s; Distance(mm): 100.0; ranging time(us): 1282.0\n",
      "Time: 18.408s; Distance(mm): 100.0; ranging time(us): 5367.0\n",
      "Time: 18.506s; Distance(mm): 99.0; ranging time(us): 3315.0\n",
      "Time: 19.544s; Distance(mm): 100.0; ranging time(us): 1281.0\n",
      "Time: 19.595s; Distance(mm): 100.0; ranging time(us): 5367.0\n",
      "Time: 19.693s; Distance(mm): 99.0; ranging time(us): 3315.0\n",
      "Time: 19.841s; Distance(mm): 100.0; ranging time(us): 2360.0\n",
      "Time: 19.892s; Distance(mm): 99.0; ranging time(us): 1282.0\n"
     ]
    }
   ],
   "source": [
    "for i in range(len(time)):\n",
    "    print(f\"Time: {time[i]}s; Distance(mm): {distance[i]}; ranging time(us): {ranging[i]}\")"
   ]
  },
  {
   "cell_type": "code",
   "execution_count": 15,
   "id": "cd121e79-0d7c-4ab2-b3f8-ee91ea5568b6",
   "metadata": {},
   "outputs": [],
   "source": [
    "ble.stop_notify(ble.uuid['RX_STRING'])"
   ]
  },
  {
   "cell_type": "code",
   "execution_count": 19,
   "id": "a790e636-45f0-47ab-b133-97e5920dfca0",
   "metadata": {},
   "outputs": [
    {
     "name": "stdout",
     "output_type": "stream",
     "text": [
      "2024-03-11 00:20:23,193 |\u001b[32m INFO     \u001b[0m|: Disconnected from C0:89:C1:6D:24:4B\n"
     ]
    }
   ],
   "source": [
    "# Disconnect\n",
    "ble.disconnect()"
   ]
  },
  {
   "cell_type": "code",
   "execution_count": 20,
   "id": "841a2918-6530-4d8f-8102-92576fce656c",
   "metadata": {},
   "outputs": [
    {
     "data": {
      "image/png": "[encoded data removed]",
      "text/plain": [
       "<Figure size 640x480 with 1 Axes>"
      ]
     },
     "metadata": {},
     "output_type": "display_data"
    }
   ],
   "source": [
    "plt.plot(time, distance, alpha=0.7)\n",
    "plt.xlabel('time (s)')\n",
    "plt.xlabel('distance (mm)')\n",
    "plt.title('ToF Readings')\n",
    "plt.show();"
   ]
  },
  {
   "cell_type": "code",
   "execution_count": 60,
   "id": "68ffbe76-7050-4880-8a2e-41785b31ccaa",
   "metadata": {},
   "outputs": [
    {
     "data": {
      "text/plain": [
       "array([ 15.5483871 ,  12.80645161,  10.5483871 ,  10.87096774,\n",
       "         9.70967742,   5.16129032,   2.74193548,  46.29032258,\n",
       "        15.25806452,  14.19354839,  22.51612903, 239.67741935])"
      ]
     },
     "execution_count": 60,
     "metadata": {},
     "output_type": "execute_result"
    }
   ],
   "source": [
    "np.abs(measuredDis-actualDis*10)\n"
   ]
  },
  {
   "cell_type": "code",
   "execution_count": 59,
   "id": "4ba69218-479f-4e20-9698-88bff23a68e1",
   "metadata": {},
   "outputs": [
    {
     "data": {
      "text/plain": [
       "array([ 10,  20,  30,  40,  50,  60,  80, 100, 120, 130, 140, 150])"
      ]
     },
     "execution_count": 59,
     "metadata": {},
     "output_type": "execute_result"
    }
   ],
   "source": [
    "actualDis"
   ]
  },
  {
   "cell_type": "code",
   "execution_count": 44,
   "id": "04566f58-dfb8-47da-99c4-706502c7d79f",
   "metadata": {},
   "outputs": [
    {
     "data": {
      "text/plain": [
       "array([  1.49921936,   0.96451073,   1.01086707,   0.90667544,\n",
       "         0.72705985,   1.24684826,   1.52331857,   8.14859397,\n",
       "         4.14236758,   7.91250278,  21.18561741, 310.78458332])"
      ]
     },
     "execution_count": 44,
     "metadata": {},
     "output_type": "execute_result"
    }
   ],
   "source": [
    "stdDis "
   ]
  },
  {
   "cell_type": "code",
   "execution_count": 55,
   "id": "9b6f02e0-882c-4672-b0d1-7a77fee1e345",
   "metadata": {},
   "outputs": [
    {
     "data": {
      "text/plain": [
       "array([  1.5 ,   0.96,   1.01,   0.91,   0.73,   1.25,   1.52,   8.15,\n",
       "         4.14,   7.91,  21.19, 310.78])"
      ]
     },
     "execution_count": 55,
     "metadata": {},
     "output_type": "execute_result"
    }
   ],
   "source": [
    "np.around(stdDis,2)"
   ]
  },
  {
   "cell_type": "code",
   "execution_count": null,
   "id": "d4608f54-0a95-4604-bd60-51499399da64",
   "metadata": {},
   "outputs": [],
   "source": []
  }
 ],
 "metadata": {
  "kernelspec": {
   "display_name": "Python 3 (ipykernel)",
   "language": "python",
   "name": "python3"
  },
  "language_info": {
   "codemirror_mode": {
    "name": "ipython",
    "version": 3
   },
   "file_extension": ".py",
   "mimetype": "text/x-python",
   "name": "python",
   "nbconvert_exporter": "python",
   "pygments_lexer": "ipython3",
   "version": "3.12.2"
  }
 },
 "nbformat": 4,
 "nbformat_minor": 5
}
