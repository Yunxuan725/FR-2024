{
 "cells": [
  {
   "cell_type": "code",
   "execution_count": 1,
   "id": "2b185436-c045-412a-a81d-1cda9af75117",
   "metadata": {},
   "outputs": [
    {
     "name": "stdout",
     "output_type": "stream",
     "text": [
      "First few entries:\n",
      "gx: -0.53, gy: 0.77, gz: 0.02\n",
      "gx: -0.73, gy: 0.86, gz: 0.3\n",
      "gx: -0.73, gy: 0.86, gz: 0.33\n",
      "GX Statistics:\n",
      "  Mean: -0.72\n",
      "  Min: -3.08\n",
      "  Max: 1.28\n",
      "  Count: 55121\n",
      "GY Statistics:\n",
      "  Mean: 0.79\n",
      "  Min: -0.01\n",
      "  Max: 1.64\n",
      "  Count: 55121\n",
      "GZ Statistics:\n",
      "  Mean: 0.30\n",
      "  Min: -1.56\n",
      "  Max: 2.37\n",
      "  Count: 55121\n"
     ]
    }
   ],
   "source": [
    "def load_data(filepath):\n",
    "    data = {\n",
    "        'gx': [],\n",
    "        'gy': [],\n",
    "        'gz': []\n",
    "    }\n",
    "    with open(filepath, 'r') as file:\n",
    "        for line in file:\n",
    "            parts = line.strip().split()\n",
    "            if len(parts) == 3:  \n",
    "                data['gx'].append(float(parts[0]))\n",
    "                data['gy'].append(float(parts[1]))\n",
    "                data['gz'].append(float(parts[2]))\n",
    "    return data\n",
    "\n",
    "data = load_data('putty.log')\n",
    "\n",
    "print(\"First few entries:\")\n",
    "for i in range(min(len(data['gx']), 3)):\n",
    "    print(f\"gx: {data['gx'][i]}, gy: {data['gy'][i]}, gz: {data['gz'][i]}\")\n",
    "\n",
    "# Define a function to calculate and print basic statistics\n",
    "def print_statistics(data):\n",
    "    for key in data:\n",
    "        values = data[key]\n",
    "        print(f\"{key.upper()} Statistics:\")\n",
    "        print(f\"  Mean: {sum(values) / len(values):.2f}\")\n",
    "        print(f\"  Min: {min(values):.2f}\")\n",
    "        print(f\"  Max: {max(values):.2f}\")\n",
    "        print(f\"  Count: {len(values)}\")\n",
    "\n",
    "# Print statistics for each component\n",
    "print_statistics(data)"
   ]
  },
  {
   "cell_type": "code",
   "execution_count": 2,
   "id": "e9a43665-8548-4116-b3cc-7d76795cadf6",
   "metadata": {},
   "outputs": [
    {
     "name": "stdout",
     "output_type": "stream",
     "text": [
      "Total number=55121, threshold number=9, percentage=0.01632771538977885%\n",
      "Total number=55121, threshold number=33, percentage=0.059868289762522446%\n"
     ]
    }
   ],
   "source": [
    "def analyze(data,threshold, direction='above'):\n",
    "    total_count = len(data)\n",
    "    if direction == 'above':\n",
    "        count_threshold = sum(1 for value in data if value > threshold)\n",
    "    elif direction == 'below':\n",
    "        count_threshold = sum(1 for value in data if value < threshold)\n",
    "    else:\n",
    "        raise ValueError(\"direction parameter must be 'above' or 'below'\")\n",
    "    \n",
    "    return total_count, count_threshold, count_threshold/total_count*100\n",
    "\n",
    "results = analyze(data['gx'], 0, 'above')\n",
    "print(f\"Total number={results[0]}, threshold number={results[1]}, percentage={results[2]}%\")\n",
    "results = analyze(data['gx'], -1.2, 'below')\n",
    "print(f\"Total number={results[0]}, threshold number={results[1]}, percentage={results[2]}%\")"
   ]
  },
  {
   "cell_type": "code",
   "execution_count": 3,
   "id": "ebc0e222-353d-4d09-b2a3-f5bda48c247d",
   "metadata": {},
   "outputs": [
    {
     "name": "stdout",
     "output_type": "stream",
     "text": [
      "Total number=55121, threshold number=13, percentage=0.023584477785236115%\n",
      "Total number=55121, threshold number=1, percentage=0.0018141905988643169%\n"
     ]
    }
   ],
   "source": [
    "results = analyze(data['gy'], 1.3, 'above')\n",
    "print(f\"Total number={results[0]}, threshold number={results[1]}, percentage={results[2]}%\")\n",
    "results = analyze(data['gy'], 0, 'below')\n",
    "print(f\"Total number={results[0]}, threshold number={results[1]}, percentage={results[2]}%\")"
   ]
  },
  {
   "cell_type": "code",
   "execution_count": 4,
   "id": "77d4b80a-d241-4b0a-bc03-5ea13488913b",
   "metadata": {},
   "outputs": [
    {
     "name": "stdout",
     "output_type": "stream",
     "text": [
      "Total number=55121, threshold number=59, percentage=0.10703724533299469%\n",
      "Total number=55121, threshold number=44, percentage=0.07982438635002993%\n"
     ]
    }
   ],
   "source": [
    "results = analyze(data['gz'], 0.8, 'above')\n",
    "print(f\"Total number={results[0]}, threshold number={results[1]}, percentage={results[2]}%\")\n",
    "results = analyze(data['gz'], -0.2, 'below')\n",
    "print(f\"Total number={results[0]}, threshold number={results[1]}, percentage={results[2]}%\")"
   ]
  },
  {
   "cell_type": "code",
   "execution_count": 80,
   "id": "1ff92ddd-2884-414b-bad6-0d06513ec9d3",
   "metadata": {},
   "outputs": [
    {
     "data": {
      "text/plain": [
       "[]"
      ]
     },
     "execution_count": 80,
     "metadata": {},
     "output_type": "execute_result"
    }
   ],
   "source": [
    "gy"
   ]
  },
  {
   "cell_type": "code",
   "execution_count": null,
   "id": "5276a4e5-5b9b-44ed-a4a6-f660328397b0",
   "metadata": {},
   "outputs": [],
   "source": []
  }
 ],
 "metadata": {
  "kernelspec": {
   "display_name": "Python 3 (ipykernel)",
   "language": "python",
   "name": "python3"
  },
  "language_info": {
   "codemirror_mode": {
    "name": "ipython",
    "version": 3
   },
   "file_extension": ".py",
   "mimetype": "text/x-python",
   "name": "python",
   "nbconvert_exporter": "python",
   "pygments_lexer": "ipython3",
   "version": "3.12.3"
  }
 },
 "nbformat": 4,
 "nbformat_minor": 5
}
