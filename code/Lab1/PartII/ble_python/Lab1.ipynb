{
 "cells": [
  {
   "cell_type": "markdown",
   "id": "1e68dc48-c63c-497b-a52a-80bf91d7653f",
   "metadata": {},
   "source": [
    "## Initialize"
   ]
  },
  {
   "cell_type": "code",
   "execution_count": 1,
   "id": "b52bdd60-54f2-4fb4-b67d-0bd155210d04",
   "metadata": {},
   "outputs": [],
   "source": [
    "%load_ext autoreload\n",
    "%autoreload 2\n",
    "\n",
    "import sys\n",
    "from ble import get_ble_controller\n",
    "from base_ble import LOG\n",
    "from cmd_types import CMD\n",
    "import time\n",
    "import numpy as np\n",
    "import matplotlib.pyplot as plt\n",
    "\n",
    "LOG.propagate = False"
   ]
  },
  {
   "cell_type": "code",
   "execution_count": 2,
   "id": "1b29440c-94bf-4c90-aa4c-a587a1b3f478",
   "metadata": {},
   "outputs": [
    {
     "name": "stdout",
     "output_type": "stream",
     "text": [
      "2024-03-06 14:37:40,263 |\u001b[32m INFO     \u001b[0m|: info\n",
      "2024-03-06 14:37:40,268 |\u001b[33m WARNING  \u001b[0m|: warning\n",
      "2024-03-06 14:37:40,269 |\u001b[31m ERROR    \u001b[0m|: error\n",
      "2024-03-06 14:37:40,269 |\u001b[31m\u001b[47m\u001b[1m CRITICAL \u001b[0m|: critical\n"
     ]
    }
   ],
   "source": [
    "LOG.debug(\"debug\")\n",
    "LOG.info(\"info\")\n",
    "LOG.warning(\"warning\")\n",
    "LOG.error(\"error\")\n",
    "LOG.critical(\"critical\")"
   ]
  },
  {
   "cell_type": "code",
   "execution_count": 3,
   "id": "f48e3d26-675b-47a9-bbab-64c39dbb967b",
   "metadata": {},
   "outputs": [
    {
     "name": "stdout",
     "output_type": "stream",
     "text": [
      "2024-03-06 14:37:40,794 |\u001b[32m INFO     \u001b[0m|: Looking for Artemis Nano Peripheral Device: c0:89:c1:6d:24:4b\n",
      "2024-03-06 14:37:45,522 |\u001b[32m INFO     \u001b[0m|: Connected to c0:89:c1:6d:24:4b\n"
     ]
    },
    {
     "name": "stderr",
     "output_type": "stream",
     "text": [
      "C:\\Users\\xyx07\\Fast_Robot\\ble_robot-1.1\\ble_python\\base_ble.py:104: FutureWarning: This method will be removed future version, pass the callback to the BleakClient constructor instead.\n",
      "  self.client.set_disconnected_callback(self.disconnect_handler)\n"
     ]
    }
   ],
   "source": [
    "# Get ArtemisBLEController object\n",
    "ble = get_ble_controller()\n",
    "\n",
    "# Connect to the Artemis Device\n",
    "ble.connect()"
   ]
  },
  {
   "cell_type": "markdown",
   "id": "8ef6b4c1-2d3b-4a7c-9c8f-a975d0dd6fec",
   "metadata": {},
   "source": [
    "## Task 1"
   ]
  },
  {
   "cell_type": "code",
   "execution_count": 4,
   "id": "c9ba4b6f-9700-4725-bd5b-9cac93ca61d1",
   "metadata": {},
   "outputs": [
    {
     "name": "stdout",
     "output_type": "stream",
     "text": [
      "Robot says -> HiHello :)\n"
     ]
    }
   ],
   "source": [
    "ble.send_command(CMD.ECHO, \"HiHello\")\n",
    "output1 = ble.receive_string(ble.uuid['RX_STRING'])\n",
    "print(output1)"
   ]
  },
  {
   "cell_type": "markdown",
   "id": "5ff80f15-8e99-46d5-a171-de8e34f971b4",
   "metadata": {},
   "source": [
    "## Task 2"
   ]
  },
  {
   "cell_type": "code",
   "execution_count": 5,
   "id": "69c7f7a8-5128-4abe-a9c8-51520843faaa",
   "metadata": {},
   "outputs": [
    {
     "name": "stdout",
     "output_type": "stream",
     "text": [
      "T: 16282.0\n"
     ]
    }
   ],
   "source": [
    "ble.send_command(CMD.GET_TIME_MILLIS, \"\")\n",
    "output2 = ble.receive_string(ble.uuid['RX_STRING'])\n",
    "print(output2)"
   ]
  },
  {
   "cell_type": "markdown",
   "id": "a0c9ba7c-d6f0-4335-acce-0a9364c61e4f",
   "metadata": {},
   "source": [
    "## Task 3"
   ]
  },
  {
   "cell_type": "code",
   "execution_count": 6,
   "id": "6b321eef-cf79-409a-8224-63c922a6340d",
   "metadata": {},
   "outputs": [],
   "source": [
    "arr_time=[] #store the time data in milliseconds\n",
    "raw_message=[] #store raw message received\n",
    "# A callback function that only works for \n",
    "#receiving time info from GET_TIME_MILLIS\n",
    "def notification_handler(uuid, byte_array):\n",
    "    global arr_time, raw_message\n",
    "    raw_message.append(byte_array)\n",
    "    # Extracts the time portion in seconds from the byte array\n",
    "    message = ble.bytearray_to_string(byte_array)\n",
    "    label, value = message.split(':')\n",
    "    time_ms = float(value)\n",
    "    arr_time.append(time_ms)\n",
    "    print(f\"Time = {time_ms/1000}s\")"
   ]
  },
  {
   "cell_type": "code",
   "execution_count": 10,
   "id": "1cf1d92b-c589-45cb-b787-78b24b51321d",
   "metadata": {},
   "outputs": [
    {
     "name": "stdout",
     "output_type": "stream",
     "text": [
      "Time = 2948.854s\n",
      "Time = 2948.975s\n",
      "Time = 2949.098s\n"
     ]
    }
   ],
   "source": [
    "ble.start_notify(ble.uuid['RX_STRING'], notification_handler)\n",
    "ble.send_command(CMD.GET_TIME_MILLIS, \"\")\n",
    "ble.send_command(CMD.GET_TIME_MILLIS, \"\")\n",
    "ble.send_command(CMD.GET_TIME_MILLIS, \"\")"
   ]
  },
  {
   "cell_type": "code",
   "execution_count": 11,
   "id": "b3a0afd6-b9f5-4fa9-8783-e0a757a726c5",
   "metadata": {},
   "outputs": [
    {
     "data": {
      "text/plain": [
       "[2948854.0, 2948975.0, 2949098.0]"
      ]
     },
     "execution_count": 11,
     "metadata": {},
     "output_type": "execute_result"
    },
    {
     "name": "stdout",
     "output_type": "stream",
     "text": [
      "2024-03-06 07:23:53,420 |\u001b[32m INFO     \u001b[0m|: Disconnected from C0:89:C1:6D:24:4B\n"
     ]
    }
   ],
   "source": [
    "ble.stop_notify(ble.uuid['RX_STRING'])\n",
    "arr_time # in ms"
   ]
  },
  {
   "cell_type": "markdown",
   "id": "9f799a6d-b326-4025-a636-4e789631a4ab",
   "metadata": {},
   "source": [
    "## Task 4"
   ]
  },
  {
   "cell_type": "code",
   "execution_count": 8,
   "id": "aaffa4da-dba0-4e3a-9129-14054039f8e1",
   "metadata": {},
   "outputs": [
    {
     "name": "stdout",
     "output_type": "stream",
     "text": [
      "Time = 46.097s\n",
      "Time = 46.099s\n",
      "Time = 46.101s\n",
      "Time = 46.106s\n",
      "Time = 46.16s\n",
      "Time = 46.161s\n",
      "Time = 46.219s\n",
      "Time = 46.22s\n",
      "Time = 46.225s\n",
      "Time = 46.28s\n",
      "Time = 0.184s\n"
     ]
    }
   ],
   "source": [
    "raw_message=[]\n",
    "arr_time = [] \n",
    "ble.start_notify(ble.uuid['RX_STRING'], notification_handler) \n",
    "ble.send_command(CMD.GET_TIME, 10)\n",
    "time.sleep(2)\n",
    "ble.stop_notify(ble.uuid['RX_STRING'])"
   ]
  },
  {
   "cell_type": "code",
   "execution_count": 13,
   "id": "597311f9-f5f5-41ed-89c6-8586662c9985",
   "metadata": {},
   "outputs": [
    {
     "name": "stdout",
     "output_type": "stream",
     "text": [
      "Effective data transferred is about 0.489 bytes/ms\n",
      "2024-03-06 07:56:08,333 |\u001b[32m INFO     \u001b[0m|: Disconnected from C0:89:C1:6D:24:4B\n"
     ]
    }
   ],
   "source": [
    "#Size of command and message in bytes\n",
    "message_size = len(raw_message[0]) # size of message received in bytes\n",
    "total_data_transferred = (len(arr_time)-1)*message_size\n",
    "total_time_ms = arr_time[-1]\n",
    "\n",
    "# Calculate the effective data transfer rate in bytes per millisecond\n",
    "transfer_rate = total_data_transferred / total_time_ms\n",
    "print(f\"Effective data transferred is about {np.round(transfer_rate, 3)} bytes/ms\")"
   ]
  },
  {
   "cell_type": "markdown",
   "id": "bb53d911-6e9b-4899-8140-2813d870ecdc",
   "metadata": {},
   "source": [
    "## Task 5"
   ]
  },
  {
   "cell_type": "code",
   "execution_count": 7,
   "id": "adf34f11-68cd-4e5c-8a9c-e2e84fa40ae7",
   "metadata": {},
   "outputs": [
    {
     "name": "stdout",
     "output_type": "stream",
     "text": [
      "Time = 56.276s\n",
      "Time = 56.277s\n",
      "Time = 56.277s\n",
      "Time = 56.277s\n",
      "Time = 56.277s\n",
      "Time = 56.278s\n",
      "Time = 56.278s\n",
      "Time = 56.278s\n",
      "Time = 56.278s\n",
      "Time = 56.279s\n",
      "Time = 56.279s\n",
      "Time = 56.279s\n",
      "Time = 56.28s\n",
      "Time = 56.28s\n",
      "Time = 56.28s\n",
      "Time = 56.282s\n",
      "Time = 56.282s\n",
      "Time = 56.282s\n",
      "Time = 56.283s\n",
      "Time = 56.283s\n"
     ]
    }
   ],
   "source": [
    "arr_time=[] \n",
    "raw_message=[] \n",
    "ble.start_notify(ble.uuid['RX_STRING'], notification_handler)\n",
    "ble.send_command(CMD.SEND_TIME_DATA, \"\")"
   ]
  },
  {
   "cell_type": "code",
   "execution_count": 8,
   "id": "20fb5069-781e-4d71-b28e-3371efb62486",
   "metadata": {},
   "outputs": [],
   "source": [
    "ble.stop_notify(ble.uuid['RX_STRING'])"
   ]
  },
  {
   "cell_type": "markdown",
   "id": "7f966698-17ee-471f-a1ec-96d0deee9bfc",
   "metadata": {},
   "source": [
    "## Task 6"
   ]
  },
  {
   "cell_type": "code",
   "execution_count": 9,
   "id": "b0198254-7b43-4113-886f-535cbba59faa",
   "metadata": {},
   "outputs": [
    {
     "name": "stdout",
     "output_type": "stream",
     "text": [
      "Time in seconds: 998.164; Temerature: 22.828C\n",
      "Time in seconds: 998.165; Temerature: 23.412C\n",
      "Time in seconds: 998.165; Temerature: 23.412C\n",
      "Time in seconds: 998.165; Temerature: 22.828C\n",
      "Time in seconds: 998.171; Temerature: 23.412C\n",
      "Time in seconds: 998.171; Temerature: 23.412C\n",
      "Time in seconds: 998.171; Temerature: 23.412C\n",
      "Time in seconds: 998.171; Temerature: 23.412C\n",
      "Time in seconds: 998.172; Temerature: 23.412C\n",
      "Time in seconds: 998.172; Temerature: 23.412C\n",
      "Time in seconds: 998.172; Temerature: 22.828C\n",
      "Time in seconds: 998.172; Temerature: 23.412C\n",
      "Time in seconds: 998.173; Temerature: 22.828C\n",
      "Time in seconds: 998.173; Temerature: 22.828C\n",
      "Time in seconds: 998.173; Temerature: 23.412C\n",
      "Time in seconds: 998.173; Temerature: 23.412C\n",
      "Time in seconds: 998.173; Temerature: 23.412C\n",
      "Time in seconds: 998.174; Temerature: 22.828C\n",
      "Time in seconds: 998.174; Temerature: 22.828C\n",
      "Time in seconds: 998.174; Temerature: 22.828C\n"
     ]
    }
   ],
   "source": [
    "raw_message=[]\n",
    "#add more arrays if needed\n",
    "temperature = []\n",
    "arr_time = [] \n",
    "num=[]\n",
    "def notification_handler2(uuid, byte_array):\n",
    "    global arr_time, raw_message\n",
    "    raw_message.append(byte_array)\n",
    "    # Extracts the time portion in seconds from the byte array\n",
    "    message = ble.bytearray_to_string(byte_array)\n",
    "    readings = message.split('|')\n",
    "    num.clear()\n",
    "    for reading in readings:\n",
    "        label, value = reading.split(':')\n",
    "        num.append(value)\n",
    "    #Add more arrays if needed\n",
    "    arr_time.append(float(num[0])/1000)\n",
    "    temperature.append(num[1])\n",
    "    if not temperature[-1]==' ':\n",
    "        print(f\"Time in seconds: {float(num[0])/1000}; Temerature: {num[1]}C\")\n",
    "\n",
    "ble.start_notify(ble.uuid['RX_STRING'], notification_handler2)\n",
    "ble.send_command(CMD.GET_TEMP_READINGS, \"\")\n",
    "time.sleep(5)\n",
    "ble.stop_notify(ble.uuid['RX_STRING'])"
   ]
  },
  {
   "cell_type": "markdown",
   "id": "cdcd7ce7-06f1-4dea-a5ca-b0a407fa5403",
   "metadata": {},
   "source": [
    "## Task 7"
   ]
  },
  {
   "cell_type": "code",
   "execution_count": 10,
   "id": "90e5c42e-d1b6-432f-8ce7-06a8ee9f6b7c",
   "metadata": {},
   "outputs": [
    {
     "name": "stdout",
     "output_type": "stream",
     "text": [
      "Effective data transferred is about 1.041 bytes/ms\n"
     ]
    }
   ],
   "source": [
    "message_size = len(raw_message[0]) # size of one message received in bytes\n",
    "total_data_transferred = message_size*(len(raw_message)-1)\n",
    "total_time_ms = arr_time[-1]*1000\n",
    "# Calculate the effective data transfer rate in bytes per millisecond\n",
    "transfer_rate = total_data_transferred / total_time_ms\n",
    "print(f\"Effective data transferred is about {np.round(transfer_rate, 3)} bytes/ms\")"
   ]
  },
  {
   "cell_type": "code",
   "execution_count": 29,
   "id": "520ce4ee-e20a-4607-9b9b-8edd855e651f",
   "metadata": {},
   "outputs": [
    {
     "data": {
      "text/plain": [
       "31998.416666666668"
      ]
     },
     "execution_count": 29,
     "metadata": {},
     "output_type": "execute_result"
    },
    {
     "name": "stdout",
     "output_type": "stream",
     "text": [
      "2024-02-14 20:19:00,037 |\u001b[32m INFO     \u001b[0m|: Disconnected from C0:89:C1:6D:24:4B\n"
     ]
    }
   ],
   "source": [
    "#The time is stored as an array of double with size of 8 bytes and \n",
    "#temperature is stored as an array of float with size of 4 bytes, so for each pair of data is 12 bytes\n",
    "#Additionally, in order to send a string like 'T:294649.0|C:23.412', we need extra 19 bytes to store it in tx_estring_value\n",
    "(384000-19)/12"
   ]
  },
  {
   "cell_type": "markdown",
   "id": "1fd4543f-fa3c-463d-9155-60c8a7f0e911",
   "metadata": {},
   "source": [
    "## Effective Data Rate And Overhead"
   ]
  },
  {
   "cell_type": "code",
   "execution_count": 7,
   "id": "553e156a-e9c6-4ce2-aab3-cc7ecd01b630",
   "metadata": {},
   "outputs": [
    {
     "data": {
      "image/png": "[encoded data removed]",
      "text/plain": [
       "<Figure size 640x480 with 1 Axes>"
      ]
     },
     "metadata": {},
     "output_type": "display_data"
    }
   ],
   "source": [
    "message=[]\n",
    "BytesSize = [5, 10, 20, 30, 40, 50, 60, 70, 80, 90, 100, 110, 120]\n",
    "DataRate =[]\n",
    "\n",
    "for i in BytesSize:\n",
    "    start = time.time()\n",
    "    ble.send_command(CMD.CALC_DATA_RATE, i)\n",
    "    message.append(ble.receive_string(ble.uuid['RX_STRING']))\n",
    "    end = time.time()\n",
    "    DataRate.append(i / (end - start))\n",
    "\n",
    "#Plot\n",
    "plt.plot(BytesSize, DataRate)\n",
    "plt.scatter(BytesSize, DataRate,s=10)\n",
    "plt.title('Data Rate Testing')\n",
    "plt.xlabel('Bytes received from the Artemis (Bytes)')\n",
    "plt.ylabel('Data Rate (Bytes/s)');"
   ]
  },
  {
   "cell_type": "markdown",
   "id": "d46ec555-79bd-46b2-99e3-d1936c5e09b1",
   "metadata": {},
   "source": [
    "## Reliability"
   ]
  },
  {
   "cell_type": "code",
   "execution_count": 7,
   "id": "53e14158-2c66-403e-b424-e2fcd79e73fe",
   "metadata": {},
   "outputs": [
    {
     "name": "stdout",
     "output_type": "stream",
     "text": [
      "Asking the board to send strings containing 130, 140, and 150 'A's with no delay\n",
      "Received strings that contain 130, 140, and 150 'A's\n",
      "2024-03-06 15:23:53,313 |\u001b[32m INFO     \u001b[0m|: Disconnected from C0:89:C1:6D:24:4B\n"
     ]
    }
   ],
   "source": [
    "message=[]\n",
    "BytesSize = [130,140,150]\n",
    "print(f\"Asking the board to send strings containing {BytesSize[0]}, {BytesSize[1]}, and {BytesSize[2]} 'A's with no delay\")\n",
    "for i in BytesSize:\n",
    "    ble.send_command(CMD.CALC_DATA_RATE, i)\n",
    "    message.append(ble.receive_string(ble.uuid['RX_STRING']))\n",
    "print(f\"Received strings that contain {len(message[0])}, {len(message[1])}, and {len(message[2])} 'A's\")"
   ]
  },
  {
   "cell_type": "code",
   "execution_count": 11,
   "id": "5a653652-87ce-4e7d-8deb-aa69c2716eba",
   "metadata": {},
   "outputs": [
    {
     "name": "stdout",
     "output_type": "stream",
     "text": [
      "2024-02-14 15:37:24,516 |\u001b[32m INFO     \u001b[0m|: Disconnected from C0:89:C1:6D:24:4B\n"
     ]
    }
   ],
   "source": [
    "# Disconnect\n",
    "ble.disconnect()"
   ]
  },
  {
   "cell_type": "code",
   "execution_count": null,
   "id": "3761100a-ae77-4fd5-802c-3312b8402427",
   "metadata": {},
   "outputs": [],
   "source": []
  }
 ],
 "metadata": {
  "kernelspec": {
   "display_name": "Python 3 (ipykernel)",
   "language": "python",
   "name": "python3"
  },
  "language_info": {
   "codemirror_mode": {
    "name": "ipython",
    "version": 3
   },
   "file_extension": ".py",
   "mimetype": "text/x-python",
   "name": "python",
   "nbconvert_exporter": "python",
   "pygments_lexer": "ipython3",
   "version": "3.12.2"
  }
 },
 "nbformat": 4,
 "nbformat_minor": 5
}
