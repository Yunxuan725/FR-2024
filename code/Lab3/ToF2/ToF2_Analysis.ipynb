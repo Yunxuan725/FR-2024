{
 "cells": [
  {
   "cell_type": "code",
   "execution_count": 1,
   "id": "7e74f93b-f1d0-43d9-8bd5-0f69f3c4f330",
   "metadata": {},
   "outputs": [],
   "source": [
    "%load_ext autoreload\n",
    "%autoreload 2\n",
    "\n",
    "import sys\n",
    "from ble import get_ble_controller\n",
    "from base_ble import LOG\n",
    "from cmd_types import CMD\n",
    "import time\n",
    "import numpy as np\n",
    "import matplotlib.pyplot as plt\n",
    "\n",
    "LOG.propagate = False"
   ]
  },
  {
   "cell_type": "code",
   "execution_count": 2,
   "id": "cfc347f2-f810-466f-84a0-454992a78c3f",
   "metadata": {},
   "outputs": [
    {
     "name": "stdout",
     "output_type": "stream",
     "text": [
      "2024-03-11 15:17:00,864 |\u001b[32m INFO     \u001b[0m|: info\n",
      "2024-03-11 15:17:00,867 |\u001b[33m WARNING  \u001b[0m|: warning\n",
      "2024-03-11 15:17:00,867 |\u001b[31m ERROR    \u001b[0m|: error\n",
      "2024-03-11 15:17:00,868 |\u001b[31m\u001b[47m\u001b[1m CRITICAL \u001b[0m|: critical\n"
     ]
    }
   ],
   "source": [
    "LOG.debug(\"debug\")\n",
    "LOG.info(\"info\")\n",
    "LOG.warning(\"warning\")\n",
    "LOG.error(\"error\")\n",
    "LOG.critical(\"critical\")"
   ]
  },
  {
   "cell_type": "code",
   "execution_count": 3,
   "id": "b20ec1d6-b627-40b3-be9c-c6ec0b215b56",
   "metadata": {},
   "outputs": [
    {
     "name": "stdout",
     "output_type": "stream",
     "text": [
      "2024-03-11 15:17:01,676 |\u001b[32m INFO     \u001b[0m|: Looking for Artemis Nano Peripheral Device: c0:89:c1:6d:24:4b\n",
      "2024-03-11 15:17:06,576 |\u001b[32m INFO     \u001b[0m|: Connected to c0:89:c1:6d:24:4b\n"
     ]
    },
    {
     "name": "stderr",
     "output_type": "stream",
     "text": [
      "C:\\Users\\xyx07\\Fast_Robot\\Webpage\\FR-2024\\code\\Lab3\\ToF2\\base_ble.py:104: FutureWarning: This method will be removed future version, pass the callback to the BleakClient constructor instead.\n",
      "  self.client.set_disconnected_callback(self.disconnect_handler)\n"
     ]
    }
   ],
   "source": [
    "# Get ArtemisBLEController object\n",
    "ble = get_ble_controller()\n",
    "\n",
    "# Connect to the Artemis Device\n",
    "ble.connect()"
   ]
  },
  {
   "cell_type": "code",
   "execution_count": 4,
   "id": "36762508-0290-48c0-a9fe-e06b4e87d579",
   "metadata": {},
   "outputs": [
    {
     "name": "stdout",
     "output_type": "stream",
     "text": [
      "Robot says: HiHello :)\n"
     ]
    }
   ],
   "source": [
    "ble.send_command(CMD.ECHO, \"HiHello\")\n",
    "output1 = ble.receive_string(ble.uuid['RX_STRING'])\n",
    "print(output1)"
   ]
  },
  {
   "cell_type": "code",
   "execution_count": 5,
   "id": "4879a0e0-1cf7-466a-9ad3-699999d52665",
   "metadata": {},
   "outputs": [],
   "source": [
    "raw_message=[]\n",
    "#add more arrays if needed\n",
    "num = []\n",
    "time = [] #in seconds\n",
    "distanceF = [] \n",
    "distanceS = [] \n",
    "\n",
    "def notification_handler(uuid, byte_array):\n",
    "    global time,distanceF,distanceS\n",
    "    raw_message.append(byte_array)\n",
    "    # Extracts the time portion in seconds from the byte array\n",
    "    message = ble.bytearray_to_string(byte_array)\n",
    "    readings = message.split('|')\n",
    "    num.clear()\n",
    "    for reading in readings:\n",
    "        label, value = reading.split(':')\n",
    "        num.append(float(value))\n",
    "    #Add more arrays if needed\n",
    "    time.append(num[0]/1000)\n",
    "    distanceF.append(num[1])\n",
    "    distanceS.append(num[2])\n",
    "    #print(f\"Time: {float(num[0])/1000}s; xAcc: {num[1]}; yAcc: {num[2]}; xAcc: {num[1]}; xAcc: {num[1]}; xAcc: {num[1]}; xAcc: {num[1]}\")"
   ]
  },
  {
   "cell_type": "code",
   "execution_count": 6,
   "id": "ce142dd0-7b97-4428-9994-3baf678229f5",
   "metadata": {},
   "outputs": [],
   "source": [
    "ble.start_notify(ble.uuid['RX_STRING'], notification_handler)"
   ]
  },
  {
   "cell_type": "code",
   "execution_count": 7,
   "id": "539abc94-ae62-489f-ab18-6511cacebb8c",
   "metadata": {},
   "outputs": [],
   "source": [
    "ble.send_command(CMD.GET_DISTANCE, \"\")"
   ]
  },
  {
   "cell_type": "code",
   "execution_count": 8,
   "id": "6cf694b8-019d-4bba-880b-4a4573b4e717",
   "metadata": {},
   "outputs": [
    {
     "name": "stdout",
     "output_type": "stream",
     "text": [
      "It takes: 4.997s to collect data.\n",
      "Sample rate is about 17 samples/s.\n"
     ]
    }
   ],
   "source": [
    "print(f\"It takes: {round(time[-1]-time[0],3)}s to collect data.\")\n",
    "print(f\"Sample rate is about {round(len(time)/(time[-1]-time[0]))} samples/s.\")"
   ]
  },
  {
   "cell_type": "code",
   "execution_count": 18,
   "id": "a9dd75bf-c539-4ded-8464-34f07129d05d",
   "metadata": {},
   "outputs": [
    {
     "name": "stdout",
     "output_type": "stream",
     "text": [
      "Time: 27.129s; Front Distance(mm): 85.0; Front Distance(mm): 86.0\n",
      "Time: 27.188s; Front Distance(mm): 89.0; Front Distance(mm): 94.0\n",
      "Time: 27.242s; Front Distance(mm): 95.0; Front Distance(mm): 99.0\n",
      "Time: 27.298s; Front Distance(mm): 105.0; Front Distance(mm): 108.0\n",
      "Time: 27.356s; Front Distance(mm): 114.0; Front Distance(mm): 118.0\n",
      "Time: 27.414s; Front Distance(mm): 124.0; Front Distance(mm): 124.0\n",
      "Time: 27.473s; Front Distance(mm): 127.0; Front Distance(mm): 134.0\n",
      "Time: 27.531s; Front Distance(mm): 129.0; Front Distance(mm): 133.0\n",
      "Time: 27.588s; Front Distance(mm): 130.0; Front Distance(mm): 129.0\n",
      "Time: 27.643s; Front Distance(mm): 134.0; Front Distance(mm): 138.0\n",
      "Time: 27.701s; Front Distance(mm): 141.0; Front Distance(mm): 145.0\n",
      "Time: 27.757s; Front Distance(mm): 147.0; Front Distance(mm): 149.0\n",
      "Time: 27.812s; Front Distance(mm): 151.0; Front Distance(mm): 160.0\n",
      "Time: 27.868s; Front Distance(mm): 155.0; Front Distance(mm): 159.0\n",
      "Time: 27.93s; Front Distance(mm): 145.0; Front Distance(mm): 150.0\n",
      "Time: 27.987s; Front Distance(mm): 123.0; Front Distance(mm): 123.0\n",
      "Time: 28.045s; Front Distance(mm): 94.0; Front Distance(mm): 98.0\n",
      "Time: 28.103s; Front Distance(mm): 68.0; Front Distance(mm): 67.0\n",
      "Time: 28.16s; Front Distance(mm): 48.0; Front Distance(mm): 36.0\n",
      "Time: 28.216s; Front Distance(mm): 26.0; Front Distance(mm): 35.0\n",
      "Time: 28.274s; Front Distance(mm): 8.0; Front Distance(mm): 21.0\n",
      "Time: 28.333s; Front Distance(mm): 1.0; Front Distance(mm): 10.0\n",
      "Time: 28.391s; Front Distance(mm): 5.0; Front Distance(mm): 24.0\n",
      "Time: 28.449s; Front Distance(mm): 4.0; Front Distance(mm): 24.0\n",
      "Time: 28.509s; Front Distance(mm): 0.0; Front Distance(mm): 19.0\n",
      "Time: 28.566s; Front Distance(mm): 6.0; Front Distance(mm): 17.0\n",
      "Time: 28.625s; Front Distance(mm): 25.0; Front Distance(mm): 32.0\n",
      "Time: 28.684s; Front Distance(mm): 46.0; Front Distance(mm): 51.0\n",
      "Time: 28.744s; Front Distance(mm): 72.0; Front Distance(mm): 79.0\n",
      "Time: 28.804s; Front Distance(mm): 93.0; Front Distance(mm): 94.0\n",
      "Time: 28.864s; Front Distance(mm): 115.0; Front Distance(mm): 118.0\n",
      "Time: 28.924s; Front Distance(mm): 134.0; Front Distance(mm): 132.0\n",
      "Time: 28.983s; Front Distance(mm): 146.0; Front Distance(mm): 149.0\n",
      "Time: 29.042s; Front Distance(mm): 160.0; Front Distance(mm): 162.0\n",
      "Time: 29.1s; Front Distance(mm): 166.0; Front Distance(mm): 171.0\n",
      "Time: 29.157s; Front Distance(mm): 168.0; Front Distance(mm): 178.0\n",
      "Time: 29.212s; Front Distance(mm): 171.0; Front Distance(mm): 174.0\n",
      "Time: 29.27s; Front Distance(mm): 164.0; Front Distance(mm): 168.0\n",
      "Time: 29.327s; Front Distance(mm): 148.0; Front Distance(mm): 156.0\n",
      "Time: 29.384s; Front Distance(mm): 134.0; Front Distance(mm): 136.0\n",
      "Time: 29.439s; Front Distance(mm): 111.0; Front Distance(mm): 112.0\n",
      "Time: 29.495s; Front Distance(mm): 87.0; Front Distance(mm): 90.0\n",
      "Time: 29.552s; Front Distance(mm): 70.0; Front Distance(mm): 68.0\n",
      "Time: 29.608s; Front Distance(mm): 60.0; Front Distance(mm): 68.0\n",
      "Time: 29.666s; Front Distance(mm): 64.0; Front Distance(mm): 79.0\n",
      "Time: 29.722s; Front Distance(mm): 73.0; Front Distance(mm): 85.0\n",
      "Time: 29.779s; Front Distance(mm): 73.0; Front Distance(mm): 92.0\n",
      "Time: 29.836s; Front Distance(mm): 69.0; Front Distance(mm): 99.0\n",
      "Time: 29.897s; Front Distance(mm): 61.0; Front Distance(mm): 113.0\n",
      "Time: 29.954s; Front Distance(mm): 63.0; Front Distance(mm): 237.0\n",
      "Time: 30.009s; Front Distance(mm): 70.0; Front Distance(mm): 300.0\n",
      "Time: 30.07s; Front Distance(mm): 75.0; Front Distance(mm): 300.0\n",
      "Time: 30.131s; Front Distance(mm): 81.0; Front Distance(mm): 93.0\n",
      "Time: 30.191s; Front Distance(mm): 78.0; Front Distance(mm): 66.0\n",
      "Time: 30.251s; Front Distance(mm): 78.0; Front Distance(mm): 51.0\n",
      "Time: 30.311s; Front Distance(mm): 84.0; Front Distance(mm): 103.0\n",
      "Time: 30.371s; Front Distance(mm): 89.0; Front Distance(mm): 110.0\n",
      "Time: 30.431s; Front Distance(mm): 82.0; Front Distance(mm): 129.0\n",
      "Time: 30.488s; Front Distance(mm): 78.0; Front Distance(mm): 124.0\n",
      "Time: 30.544s; Front Distance(mm): 77.0; Front Distance(mm): 148.0\n",
      "Time: 30.604s; Front Distance(mm): 74.0; Front Distance(mm): 149.0\n",
      "Time: 30.667s; Front Distance(mm): 76.0; Front Distance(mm): 174.0\n",
      "Time: 30.727s; Front Distance(mm): 76.0; Front Distance(mm): 236.0\n",
      "Time: 30.783s; Front Distance(mm): 77.0; Front Distance(mm): 268.0\n",
      "Time: 30.843s; Front Distance(mm): 76.0; Front Distance(mm): 345.0\n",
      "Time: 30.903s; Front Distance(mm): 71.0; Front Distance(mm): 403.0\n",
      "Time: 30.962s; Front Distance(mm): 68.0; Front Distance(mm): 414.0\n",
      "Time: 31.019s; Front Distance(mm): 69.0; Front Distance(mm): 419.0\n",
      "Time: 31.08s; Front Distance(mm): 73.0; Front Distance(mm): 411.0\n",
      "Time: 31.14s; Front Distance(mm): 71.0; Front Distance(mm): 395.0\n",
      "Time: 31.198s; Front Distance(mm): 79.0; Front Distance(mm): 384.0\n",
      "Time: 31.258s; Front Distance(mm): 92.0; Front Distance(mm): 423.0\n",
      "Time: 31.317s; Front Distance(mm): 106.0; Front Distance(mm): 448.0\n",
      "Time: 31.377s; Front Distance(mm): 127.0; Front Distance(mm): 399.0\n",
      "Time: 31.435s; Front Distance(mm): 145.0; Front Distance(mm): 207.0\n",
      "Time: 31.491s; Front Distance(mm): 162.0; Front Distance(mm): 204.0\n",
      "Time: 31.551s; Front Distance(mm): 212.0; Front Distance(mm): 232.0\n",
      "Time: 31.609s; Front Distance(mm): 306.0; Front Distance(mm): 323.0\n",
      "Time: 31.666s; Front Distance(mm): 349.0; Front Distance(mm): 524.0\n",
      "Time: 31.724s; Front Distance(mm): 380.0; Front Distance(mm): 1258.0\n",
      "Time: 31.783s; Front Distance(mm): 382.0; Front Distance(mm): 1304.0\n",
      "Time: 31.839s; Front Distance(mm): 317.0; Front Distance(mm): 1290.0\n",
      "Time: 31.897s; Front Distance(mm): 209.0; Front Distance(mm): 893.0\n",
      "Time: 31.953s; Front Distance(mm): 193.0; Front Distance(mm): 288.0\n",
      "Time: 32.01s; Front Distance(mm): 187.0; Front Distance(mm): 202.0\n",
      "Time: 32.065s; Front Distance(mm): 190.0; Front Distance(mm): 266.0\n",
      "Time: 32.123s; Front Distance(mm): 195.0; Front Distance(mm): 416.0\n"
     ]
    }
   ],
   "source": [
    "for i in range(len(time)):\n",
    "    print(f\"Time: {time[i]}s; Front Distance(mm): {distanceF[i]}; Front Distance(mm): {distanceS[i]}\")"
   ]
  },
  {
   "cell_type": "code",
   "execution_count": 19,
   "id": "cd121e79-0d7c-4ab2-b3f8-ee91ea5568b6",
   "metadata": {},
   "outputs": [],
   "source": [
    "ble.stop_notify(ble.uuid['RX_STRING'])"
   ]
  },
  {
   "cell_type": "code",
   "execution_count": 19,
   "id": "a790e636-45f0-47ab-b133-97e5920dfca0",
   "metadata": {},
   "outputs": [
    {
     "name": "stdout",
     "output_type": "stream",
     "text": [
      "2024-03-11 00:20:23,193 |\u001b[32m INFO     \u001b[0m|: Disconnected from C0:89:C1:6D:24:4B\n"
     ]
    }
   ],
   "source": [
    "# Disconnect\n",
    "ble.disconnect()"
   ]
  },
  {
   "cell_type": "code",
   "execution_count": 22,
   "id": "841a2918-6530-4d8f-8102-92576fce656c",
   "metadata": {},
   "outputs": [
    {
     "data": {
      "image/png": "[encoded data removed]",
      "text/plain": [
       "<Figure size 640x480 with 1 Axes>"
      ]
     },
     "metadata": {},
     "output_type": "display_data"
    },
    {
     "name": "stdout",
     "output_type": "stream",
     "text": [
      "2024-03-11 05:03:35,294 |\u001b[32m INFO     \u001b[0m|: Disconnected from C0:89:C1:6D:24:4B\n"
     ]
    }
   ],
   "source": [
    "plt.plot(time, distanceS, label = 'Sensor 2')\n",
    "plt.plot(time, distanceF, label = 'Sensor 1')\n",
    "plt.xlabel('time (s)')\n",
    "plt.ylabel('distance (mm)')\n",
    "plt.title('ToF Readings')\n",
    "plt.legend();"
   ]
  },
  {
   "cell_type": "code",
   "execution_count": 10,
   "id": "68ffbe76-7050-4880-8a2e-41785b31ccaa",
   "metadata": {},
   "outputs": [
    {
     "data": {
      "text/plain": [
       "bytearray(b'Time:28683.0|Front Distance:10|Side Distance:18')"
      ]
     },
     "execution_count": 10,
     "metadata": {},
     "output_type": "execute_result"
    }
   ],
   "source": [
    "raw_message[0]\n"
   ]
  },
  {
   "cell_type": "code",
   "execution_count": 11,
   "id": "4ba69218-479f-4e20-9698-88bff23a68e1",
   "metadata": {},
   "outputs": [],
   "source": [
    "message = ble.bytearray_to_string(raw_message[0])\n",
    "readings = message.split('|')\n",
    "num.clear()\n",
    "for reading in readings:\n",
    "    label, value = reading.split(':')\n",
    "    num.append(float(value))"
   ]
  },
  {
   "cell_type": "code",
   "execution_count": 17,
   "id": "dc552930-a59f-4727-b219-9182d61133b7",
   "metadata": {},
   "outputs": [
    {
     "data": {
      "text/plain": [
       "True"
      ]
     },
     "execution_count": 17,
     "metadata": {},
     "output_type": "execute_result"
    },
    {
     "name": "stdout",
     "output_type": "stream",
     "text": [
      "2024-03-11 15:35:04,910 |\u001b[32m INFO     \u001b[0m|: Disconnected from C0:89:C1:6D:24:4B\n"
     ]
    }
   ],
   "source": [
    "message == 'Time:28683.0|Front Distance:10|Side Distance:18'"
   ]
  },
  {
   "cell_type": "code",
   "execution_count": 44,
   "id": "04566f58-dfb8-47da-99c4-706502c7d79f",
   "metadata": {},
   "outputs": [
    {
     "data": {
      "text/plain": [
       "array([  1.49921936,   0.96451073,   1.01086707,   0.90667544,\n",
       "         0.72705985,   1.24684826,   1.52331857,   8.14859397,\n",
       "         4.14236758,   7.91250278,  21.18561741, 310.78458332])"
      ]
     },
     "execution_count": 44,
     "metadata": {},
     "output_type": "execute_result"
    }
   ],
   "source": [
    "stdDis "
   ]
  },
  {
   "cell_type": "code",
   "execution_count": 55,
   "id": "9b6f02e0-882c-4672-b0d1-7a77fee1e345",
   "metadata": {},
   "outputs": [
    {
     "data": {
      "text/plain": [
       "array([  1.5 ,   0.96,   1.01,   0.91,   0.73,   1.25,   1.52,   8.15,\n",
       "         4.14,   7.91,  21.19, 310.78])"
      ]
     },
     "execution_count": 55,
     "metadata": {},
     "output_type": "execute_result"
    }
   ],
   "source": [
    "np.around(stdDis,2)"
   ]
  },
  {
   "cell_type": "code",
   "execution_count": null,
   "id": "d4608f54-0a95-4604-bd60-51499399da64",
   "metadata": {},
   "outputs": [],
   "source": []
  }
 ],
 "metadata": {
  "kernelspec": {
   "display_name": "Python 3 (ipykernel)",
   "language": "python",
   "name": "python3"
  },
  "language_info": {
   "codemirror_mode": {
    "name": "ipython",
    "version": 3
   },
   "file_extension": ".py",
   "mimetype": "text/x-python",
   "name": "python",
   "nbconvert_exporter": "python",
   "pygments_lexer": "ipython3",
   "version": "3.12.2"
  }
 },
 "nbformat": 4,
 "nbformat_minor": 5
}
