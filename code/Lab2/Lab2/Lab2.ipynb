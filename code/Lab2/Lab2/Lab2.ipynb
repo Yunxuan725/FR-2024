{
 "cells": [
  {
   "cell_type": "code",
   "execution_count": 13,
   "id": "7e74f93b-f1d0-43d9-8bd5-0f69f3c4f330",
   "metadata": {},
   "outputs": [
    {
     "name": "stdout",
     "output_type": "stream",
     "text": [
      "The autoreload extension is already loaded. To reload it, use:\n",
      "  %reload_ext autoreload\n"
     ]
    }
   ],
   "source": [
    "%load_ext autoreload\n",
    "%autoreload 2\n",
    "\n",
    "import sys\n",
    "from ble import get_ble_controller\n",
    "from base_ble import LOG\n",
    "from cmd_types import CMD\n",
    "import time\n",
    "import numpy as np\n",
    "import matplotlib.pyplot as plt\n",
    "\n",
    "LOG.propagate = False"
   ]
  },
  {
   "cell_type": "code",
   "execution_count": 14,
   "id": "cfc347f2-f810-466f-84a0-454992a78c3f",
   "metadata": {},
   "outputs": [
    {
     "name": "stdout",
     "output_type": "stream",
     "text": [
      "2024-03-07 05:05:08,721 |\u001b[32m INFO     \u001b[0m|: info\n",
      "2024-03-07 05:05:08,722 |\u001b[33m WARNING  \u001b[0m|: warning\n",
      "2024-03-07 05:05:08,723 |\u001b[31m ERROR    \u001b[0m|: error\n",
      "2024-03-07 05:05:08,724 |\u001b[31m\u001b[47m\u001b[1m CRITICAL \u001b[0m|: critical\n"
     ]
    }
   ],
   "source": [
    "LOG.debug(\"debug\")\n",
    "LOG.info(\"info\")\n",
    "LOG.warning(\"warning\")\n",
    "LOG.error(\"error\")\n",
    "LOG.critical(\"critical\")"
   ]
  },
  {
   "cell_type": "code",
   "execution_count": 15,
   "id": "b20ec1d6-b627-40b3-be9c-c6ec0b215b56",
   "metadata": {},
   "outputs": [
    {
     "name": "stdout",
     "output_type": "stream",
     "text": [
      "2024-03-07 05:05:14,977 |\u001b[32m INFO     \u001b[0m|: Looking for Artemis Nano Peripheral Device: c0:89:c1:6d:24:4b\n",
      "2024-03-07 05:05:19,792 |\u001b[32m INFO     \u001b[0m|: Connected to c0:89:c1:6d:24:4b\n"
     ]
    }
   ],
   "source": [
    "# Get ArtemisBLEController object\n",
    "ble = get_ble_controller()\n",
    "\n",
    "# Connect to the Artemis Device\n",
    "ble.connect()"
   ]
  },
  {
   "cell_type": "code",
   "execution_count": 16,
   "id": "36762508-0290-48c0-a9fe-e06b4e87d579",
   "metadata": {},
   "outputs": [
    {
     "name": "stdout",
     "output_type": "stream",
     "text": [
      "Robot says -> HiHello :)\n"
     ]
    }
   ],
   "source": [
    "ble.send_command(CMD.ECHO, \"HiHello\")\n",
    "output1 = ble.receive_string(ble.uuid['RX_STRING'])\n",
    "print(output1)"
   ]
  },
  {
   "cell_type": "code",
   "execution_count": 17,
   "id": "790fa078-b9c3-48a1-9baf-ccdbaafda331",
   "metadata": {},
   "outputs": [],
   "source": [
    "ble.send_command(CMD.PING, \"\")"
   ]
  },
  {
   "cell_type": "code",
   "execution_count": 18,
   "id": "4879a0e0-1cf7-466a-9ad3-699999d52665",
   "metadata": {},
   "outputs": [],
   "source": [
    "raw_message=[]\n",
    "#add more arrays if needed\n",
    "num = []\n",
    "time = [] #in seconds\n",
    "xAcc = [] \n",
    "yAcc = []\n",
    "zAcc = []\n",
    "xGyr = [] \n",
    "yGyr = []\n",
    "zGyr = []\n",
    "def notification_handler(uuid, byte_array):\n",
    "    global time,xAcc,yAcc,zAcc,xGyr,yGyr,zGyr\n",
    "    raw_message.append(byte_array)\n",
    "    # Extracts the time portion in seconds from the byte array\n",
    "    message = ble.bytearray_to_string(byte_array)\n",
    "    readings = message.split('|')\n",
    "    num.clear()\n",
    "    for reading in readings:\n",
    "        label, value = reading.split(':')\n",
    "        num.append(value)\n",
    "    #Add more arrays if needed\n",
    "    time.append(float(num[0])/1000)\n",
    "    xAcc.append(num[1])\n",
    "    yAcc.append(num[2])\n",
    "    zAcc.append(num[3])\n",
    "    xGyr.append(num[4])\n",
    "    yGyr.append(num[5])\n",
    "    zGyr.append(num[6])\n",
    "    #print(f\"Time: {float(num[0])/1000}s; xAcc: {num[1]}; yAcc: {num[2]}; xAcc: {num[1]}; xAcc: {num[1]}; xAcc: {num[1]}; xAcc: {num[1]}\")"
   ]
  },
  {
   "cell_type": "code",
   "execution_count": 19,
   "id": "ce142dd0-7b97-4428-9994-3baf678229f5",
   "metadata": {},
   "outputs": [],
   "source": [
    "ble.start_notify(ble.uuid['RX_STRING'], notification_handler)"
   ]
  },
  {
   "cell_type": "code",
   "execution_count": 20,
   "id": "539abc94-ae62-489f-ab18-6511cacebb8c",
   "metadata": {},
   "outputs": [],
   "source": [
    "ble.send_command(CMD.GET_IMU_DATA, \"\")"
   ]
  },
  {
   "cell_type": "code",
   "execution_count": 10,
   "id": "6cf694b8-019d-4bba-880b-4a4573b4e717",
   "metadata": {},
   "outputs": [
    {
     "name": "stdout",
     "output_type": "stream",
     "text": [
      "It takes: 0.271s to collect data.\n",
      "Sample rate is about 369 samples/s.\n",
      "Time: 74.2s; xAcc: 55.175; yAcc: 4.394; zAcc: 1050.781; xGyr: -1.435; yGyr: 0.687; zGyr: -2.503\n",
      "Time: 74.206s; xAcc: 44.433; yAcc: -13.183; zAcc: 1045.410; xGyr: 0.435; yGyr: 1.557; zGyr: 0.290\n",
      "Time: 74.208s; xAcc: 54.199; yAcc: -3.417; zAcc: 1045.898; xGyr: -1.320; yGyr: 1.229; zGyr: 0.664\n",
      "Time: 74.212s; xAcc: 69.335; yAcc: 9.765; zAcc: 1048.339; xGyr: 0.549; yGyr: -3.213; zGyr: -2.76\n",
      "Time: 74.214s; xAcc: 60.58; yAcc: 7.324; zAcc: 1044.921; xGyr: -2.984; yGyr: 0.748; zGyr: 0.381\n",
      "Time: 74.216s; xAcc: 63.964; yAcc: -2.441; zAcc: 1040.527; xGyr: -1.312; yGyr: 1.610; zGyr: 0.38\n",
      "Time: 74.221s; xAcc: 72.265; yAcc: 2.441; zAcc: 1046.386; xGyr: 0.442; yGyr: 2.793; zGyr: 0.641\n",
      "Time: 74.223s; xAcc: 51.757; yAcc: 12.695; zAcc: 1055.664; xGyr: -1.984; yGyr: 5.351; zGyr: -2.435\n",
      "Time: 74.225s; xAcc: 58.105; yAcc: 6.835; zAcc: 1050.781; xGyr: 0.221; yGyr: 0.274; zGyr: 0.259\n",
      "Time: 74.228s; xAcc: 61.523; yAcc: -6.835; zAcc: 1037.597; xGyr: 0.954; yGyr: 0.15; zGyr: -1.648\n",
      "Time: 74.23s; xAcc: 57.617; yAcc: -5.859; zAcc: 1045.898; xGyr: -2.167; yGyr: -1.908; zGyr: 0.671\n",
      "Time: 74.233s; xAcc: 49.804; yAcc: -5.371; zAcc: 1042.480; xGyr: 0.236; yGyr: 0.404; zGyr: 1.488\n",
      "Time: 74.235s; xAcc: 63.964; yAcc: 0.976; zAcc: 1052.246; xGyr: 0.0; yGyr: 0.419; zGyr: -1.290\n",
      "Time: 74.237s; xAcc: 72.753; yAcc: 6.347; zAcc: 1049.316; xGyr: 0.259; yGyr: 1.366; zGyr: 1.977\n",
      "Time: 74.24s; xAcc: 58.593; yAcc: 15.136; zAcc: 1054.687; xGyr: -1.839; yGyr: 1.778; zGyr: 0.755\n",
      "Time: 74.242s; xAcc: 58.593; yAcc: 0.488; zAcc: 1045.898; xGyr: 0.190; yGyr: -1.435; zGyr: 2.900\n",
      "Time: 74.25s; xAcc: 50.781; yAcc: 13.671; zAcc: 1054.199; xGyr: 0.885; yGyr: 0.358; zGyr: 0.267\n",
      "Time: 74.252s; xAcc: 56.152; yAcc: 12.207; zAcc: 1046.875; xGyr: -2.458; yGyr: 1.83; zGyr: -2.900\n",
      "Time: 74.254s; xAcc: 58.593; yAcc: 5.371; zAcc: 1047.851; xGyr: -2.618; yGyr: -1.38; zGyr: -1.45\n",
      "Time: 74.257s; xAcc: 64.453; yAcc: -1.464; zAcc: 1041.992; xGyr: -1.496; yGyr: 2.809; zGyr: -1.984\n",
      "Time: 74.259s; xAcc: 59.570; yAcc: 4.882; zAcc: 1053.222; xGyr: 1.595; yGyr: 0.641; zGyr: 0.992\n",
      "Time: 74.262s; xAcc: 47.363; yAcc: 7.324; zAcc: 1060.58; xGyr: 0.404; yGyr: 2.15; zGyr: 0.15\n",
      "Time: 74.264s; xAcc: 56.152; yAcc: 6.835; zAcc: 1040.39; xGyr: 0.45; yGyr: 0.328; zGyr: 1.396\n",
      "Time: 74.266s; xAcc: 65.429; yAcc: 1.953; zAcc: 1048.339; xGyr: 0.129; yGyr: -2.931; zGyr: 1.251\n",
      "Time: 74.269s; xAcc: 70.800; yAcc: 0.0; zAcc: 1042.968; xGyr: 0.847; yGyr: 1.7; zGyr: 1.198\n",
      "Time: 74.271s; xAcc: 65.429; yAcc: -5.371; zAcc: 1051.757; xGyr: -2.129; yGyr: 3.541; zGyr: 0.183\n",
      "Time: 74.274s; xAcc: 47.851; yAcc: 5.859; zAcc: 1058.105; xGyr: 1.916; yGyr: 0.297; zGyr: 0.496\n",
      "Time: 74.276s; xAcc: 52.246; yAcc: 17.89; zAcc: 1050.292; xGyr: -2.839; yGyr: 0.618; zGyr: 0.885\n",
      "Time: 74.278s; xAcc: 48.339; yAcc: -1.464; zAcc: 1045.898; xGyr: -1.7; yGyr: 1.305; zGyr: 0.687\n",
      "Time: 74.281s; xAcc: 54.687; yAcc: -7.812; zAcc: 1052.246; xGyr: -1.30; yGyr: 0.793; zGyr: 0.114\n",
      "Time: 74.283s; xAcc: 61.523; yAcc: -1.464; zAcc: 1040.39; xGyr: 0.862; yGyr: -2.832; zGyr: 0.725\n",
      "Time: 74.286s; xAcc: 44.921; yAcc: 4.394; zAcc: 1049.316; xGyr: -1.541; yGyr: 0.99; zGyr: 0.816\n",
      "Time: 74.288s; xAcc: 54.199; yAcc: 0.0; zAcc: 1049.316; xGyr: 0.22; yGyr: -3.229; zGyr: 0.175\n",
      "Time: 74.291s; xAcc: 46.875; yAcc: 0.488; zAcc: 1055.664; xGyr: -1.931; yGyr: 2.465; zGyr: 1.61\n",
      "Time: 74.294s; xAcc: 58.593; yAcc: -10.742; zAcc: 1042.968; xGyr: 0.213; yGyr: -2.374; zGyr: 0.389\n",
      "Time: 74.297s; xAcc: 58.593; yAcc: 0.488; zAcc: 1048.828; xGyr: -1.0; yGyr: 1.396; zGyr: 0.183\n",
      "Time: 74.3s; xAcc: 52.734; yAcc: 15.136; zAcc: 1034.179; xGyr: 0.702; yGyr: 0.900; zGyr: -1.908\n",
      "Time: 74.302s; xAcc: 65.429; yAcc: 11.230; zAcc: 1043.457; xGyr: 0.977; yGyr: 3.145; zGyr: 0.305\n",
      "Time: 74.306s; xAcc: 58.105; yAcc: 0.0; zAcc: 1049.316; xGyr: 1.167; yGyr: 0.442; zGyr: 2.938\n",
      "Time: 74.309s; xAcc: 59.570; yAcc: -1.464; zAcc: 1045.898; xGyr: 0.366; yGyr: 2.106; zGyr: 0.38\n",
      "Time: 74.311s; xAcc: 49.804; yAcc: 7.324; zAcc: 1040.39; xGyr: 0.221; yGyr: 2.458; zGyr: -1.572\n",
      "Time: 74.314s; xAcc: 66.894; yAcc: 8.300; zAcc: 1044.921; xGyr: 0.442; yGyr: 0.633; zGyr: 0.946\n",
      "Time: 74.316s; xAcc: 52.246; yAcc: -4.882; zAcc: 1041.15; xGyr: 0.709; yGyr: -2.83; zGyr: 1.763\n",
      "Time: 74.318s; xAcc: 64.453; yAcc: -1.464; zAcc: 1050.781; xGyr: 0.694; yGyr: 0.175; zGyr: 2.809\n",
      "Time: 74.321s; xAcc: 63.964; yAcc: 1.953; zAcc: 1046.875; xGyr: -1.175; yGyr: 1.99; zGyr: 0.839\n",
      "Time: 74.323s; xAcc: 65.429; yAcc: -1.953; zAcc: 1051.757; xGyr: 0.366; yGyr: 0.908; zGyr: 0.91\n",
      "Time: 74.326s; xAcc: 53.710; yAcc: 10.253; zAcc: 1054.687; xGyr: 0.832; yGyr: 1.0; zGyr: 2.732\n",
      "Time: 74.328s; xAcc: 55.175; yAcc: 4.394; zAcc: 1055.664; xGyr: -1.877; yGyr: 0.83; zGyr: -2.244\n",
      "Time: 74.33s; xAcc: 49.804; yAcc: 11.230; zAcc: 1055.175; xGyr: -3.297; yGyr: 2.61; zGyr: 0.488\n",
      "Time: 74.333s; xAcc: 58.593; yAcc: -2.929; zAcc: 1044.921; xGyr: 0.694; yGyr: 1.916; zGyr: 0.53\n",
      "Time: 74.34s; xAcc: 62.500; yAcc: 3.906; zAcc: 1047.363; xGyr: 0.297; yGyr: 0.122; zGyr: 0.190\n",
      "Time: 74.343s; xAcc: 55.175; yAcc: -15.625; zAcc: 1055.175; xGyr: 0.847; yGyr: 0.816; zGyr: 0.7\n",
      "Time: 74.345s; xAcc: 65.429; yAcc: -4.394; zAcc: 1039.62; xGyr: -2.320; yGyr: 1.679; zGyr: 0.969\n",
      "Time: 74.347s; xAcc: 61.523; yAcc: -2.929; zAcc: 1048.828; xGyr: -1.351; yGyr: 1.984; zGyr: -1.175\n",
      "Time: 74.35s; xAcc: 62.988; yAcc: 1.464; zAcc: 1037.109; xGyr: -1.977; yGyr: 1.717; zGyr: -3.305\n",
      "Time: 74.352s; xAcc: 55.175; yAcc: 17.89; zAcc: 1050.292; xGyr: 0.68; yGyr: 0.335; zGyr: 0.160\n",
      "Time: 74.355s; xAcc: 42.968; yAcc: 6.347; zAcc: 1052.734; xGyr: 0.442; yGyr: -1.908; zGyr: 0.412\n",
      "Time: 74.357s; xAcc: 53.710; yAcc: 3.906; zAcc: 1041.992; xGyr: -1.274; yGyr: 0.312; zGyr: 1.297\n",
      "Time: 74.359s; xAcc: 59.82; yAcc: -5.859; zAcc: 1050.781; xGyr: -1.832; yGyr: 2.175; zGyr: 1.977\n",
      "Time: 74.362s; xAcc: 62.988; yAcc: 3.417; zAcc: 1048.339; xGyr: 0.809; yGyr: 1.519; zGyr: 0.465\n",
      "Time: 74.364s; xAcc: 63.476; yAcc: -6.835; zAcc: 1039.550; xGyr: -1.541; yGyr: 1.946; zGyr: 0.213\n",
      "Time: 74.366s; xAcc: 54.199; yAcc: 8.300; zAcc: 1047.851; xGyr: -1.267; yGyr: 0.198; zGyr: 0.190\n",
      "Time: 74.369s; xAcc: 57.128; yAcc: -8.789; zAcc: 1048.828; xGyr: 0.824; yGyr: -1.587; zGyr: 0.793\n",
      "Time: 74.371s; xAcc: 61.523; yAcc: 2.929; zAcc: 1053.222; xGyr: -1.198; yGyr: 4.740; zGyr: 1.160\n",
      "Time: 74.374s; xAcc: 51.269; yAcc: 10.742; zAcc: 1044.921; xGyr: -2.816; yGyr: 0.778; zGyr: 0.160\n",
      "Time: 74.376s; xAcc: 65.429; yAcc: 0.488; zAcc: 1049.316; xGyr: 0.961; yGyr: 1.816; zGyr: 0.709\n",
      "Time: 74.378s; xAcc: 61.523; yAcc: 9.277; zAcc: 1042.968; xGyr: -2.312; yGyr: -1.183; zGyr: 0.503\n",
      "Time: 74.384s; xAcc: 57.617; yAcc: -7.812; zAcc: 1042.968; xGyr: 0.450; yGyr: 2.503; zGyr: 0.145\n",
      "Time: 74.386s; xAcc: 61.523; yAcc: 12.207; zAcc: 1042.480; xGyr: -1.458; yGyr: 0.312; zGyr: 0.618\n",
      "Time: 74.389s; xAcc: 63.964; yAcc: -2.441; zAcc: 1040.39; xGyr: 0.480; yGyr: 2.969; zGyr: 1.603\n",
      "Time: 74.393s; xAcc: 49.316; yAcc: 4.882; zAcc: 1044.433; xGyr: 0.320; yGyr: -2.396; zGyr: 0.473\n",
      "Time: 74.395s; xAcc: 62.500; yAcc: -20.507; zAcc: 1030.761; xGyr: 1.83; yGyr: 0.137; zGyr: 0.816\n",
      "Time: 74.397s; xAcc: 50.292; yAcc: 13.671; zAcc: 1038.574; xGyr: 0.22; yGyr: 0.465; zGyr: 0.259\n",
      "Time: 74.4s; xAcc: 48.828; yAcc: 3.906; zAcc: 1058.105; xGyr: 1.213; yGyr: 0.45; zGyr: 0.603\n",
      "Time: 74.402s; xAcc: 65.917; yAcc: 1.464; zAcc: 1041.15; xGyr: -1.0; yGyr: 0.297; zGyr: 1.305\n",
      "Time: 74.408s; xAcc: 56.152; yAcc: 2.929; zAcc: 1048.339; xGyr: -1.389; yGyr: 2.587; zGyr: -1.114\n",
      "Time: 74.41s; xAcc: 59.82; yAcc: 2.929; zAcc: 1049.316; xGyr: 0.213; yGyr: 0.335; zGyr: 0.145\n",
      "Time: 74.412s; xAcc: 57.128; yAcc: 0.488; zAcc: 1047.363; xGyr: -1.534; yGyr: 0.580; zGyr: 2.816\n",
      "Time: 74.417s; xAcc: 51.757; yAcc: 1.953; zAcc: 1051.757; xGyr: 0.7; yGyr: 0.961; zGyr: 0.549\n",
      "Time: 74.419s; xAcc: 62.988; yAcc: -5.371; zAcc: 1047.851; xGyr: 0.183; yGyr: 0.427; zGyr: 0.503\n",
      "Time: 74.422s; xAcc: 50.781; yAcc: 2.929; zAcc: 1051.269; xGyr: 0.679; yGyr: -1.442; zGyr: -1.755\n",
      "Time: 74.424s; xAcc: 60.58; yAcc: -5.371; zAcc: 1052.246; xGyr: 0.0; yGyr: 2.22; zGyr: -2.83\n",
      "Time: 74.426s; xAcc: 53.710; yAcc: 2.929; zAcc: 1041.503; xGyr: -1.160; yGyr: 0.793; zGyr: 0.809\n",
      "Time: 74.433s; xAcc: 55.664; yAcc: -4.394; zAcc: 1043.945; xGyr: 0.885; yGyr: 1.885; zGyr: 0.541\n",
      "Time: 74.435s; xAcc: 80.566; yAcc: 1.464; zAcc: 1046.875; xGyr: -1.816; yGyr: 1.740; zGyr: -1.351\n",
      "Time: 74.438s; xAcc: 51.269; yAcc: 7.812; zAcc: 1056.640; xGyr: 0.656; yGyr: 0.488; zGyr: 0.809\n",
      "Time: 74.44s; xAcc: 58.593; yAcc: 10.742; zAcc: 1037.109; xGyr: 1.351; yGyr: 0.320; zGyr: -2.473\n",
      "Time: 74.442s; xAcc: 71.289; yAcc: 6.347; zAcc: 1046.875; xGyr: 1.748; yGyr: 0.709; zGyr: 0.877\n",
      "Time: 74.445s; xAcc: 49.804; yAcc: 13.183; zAcc: 1060.546; xGyr: 0.908; yGyr: -1.221; zGyr: 1.824\n",
      "Time: 74.447s; xAcc: 54.687; yAcc: 3.417; zAcc: 1050.781; xGyr: 0.702; yGyr: 0.816; zGyr: 1.854\n",
      "Time: 74.449s; xAcc: 51.757; yAcc: 3.906; zAcc: 1050.781; xGyr: -1.396; yGyr: 1.900; zGyr: -1.45\n",
      "Time: 74.452s; xAcc: 55.175; yAcc: -13.183; zAcc: 1048.339; xGyr: -4.351; yGyr: 0.419; zGyr: 0.53\n",
      "Time: 74.454s; xAcc: 51.269; yAcc: 2.441; zAcc: 1037.597; xGyr: -1.198; yGyr: 1.755; zGyr: -2.564\n",
      "Time: 74.457s; xAcc: 53.222; yAcc: 11.718; zAcc: 1050.292; xGyr: -1.862; yGyr: 0.312; zGyr: 0.190\n",
      "Time: 74.459s; xAcc: 46.386; yAcc: 0.976; zAcc: 1052.246; xGyr: 1.832; yGyr: 1.7; zGyr: 1.38\n",
      "Time: 74.461s; xAcc: 55.664; yAcc: -1.464; zAcc: 1044.433; xGyr: 0.343; yGyr: -2.458; zGyr: 1.496\n",
      "Time: 74.464s; xAcc: 68.847; yAcc: -4.882; zAcc: 1043.457; xGyr: 2.83; yGyr: 0.358; zGyr: 1.992\n",
      "Time: 74.466s; xAcc: 47.363; yAcc: -3.906; zAcc: 1041.15; xGyr: 0.755; yGyr: -1.274; zGyr: 1.267\n",
      "Time: 74.469s; xAcc: 58.105; yAcc: 5.859; zAcc: 1052.734; xGyr: 0.320; yGyr: 0.641; zGyr: 0.244\n",
      "Time: 74.471s; xAcc: 62.500; yAcc: 1.464; zAcc: 1049.316; xGyr: -2.648; yGyr: -1.862; zGyr: -2.381\n"
     ]
    }
   ],
   "source": [
    "print(f\"It takes: {round(time[-1]-time[0],3)}s to collect data.\")\n",
    "print(f\"Sample rate is about {round(len(time)/(time[-1]-time[0]))} samples/s.\")\n",
    "for i in range(len(time)):\n",
    "    print(f\"Time: {time[i]}s; xAcc: {xAcc[i]}; yAcc: {yAcc[i]}; zAcc: {zAcc[i]}; xGyr: {xGyr[i]}; yGyr: {yGyr[i]}; zGyr: {zGyr[i]}\")"
   ]
  },
  {
   "cell_type": "code",
   "execution_count": 12,
   "id": "a8c03da7-5e12-4d08-b683-4e8123110fa7",
   "metadata": {},
   "outputs": [
    {
     "data": {
      "text/plain": [
       "[bytearray(b'Time:74200.0|ACC-X:55.175|ACC-Y:4.394|ACC-Z:1050.781|Gyr-X:-1.435|Gyr-Y:0.687|Gyr-Z:-2.503'),\n",
       " bytearray(b'Time:74206.0|ACC-X:44.433|ACC-Y:-13.183|ACC-Z:1045.410|Gyr-X:0.435|Gyr-Y:1.557|Gyr-Z:0.290'),\n",
       " bytearray(b'Time:74208.0|ACC-X:54.199|ACC-Y:-3.417|ACC-Z:1045.898|Gyr-X:-1.320|Gyr-Y:1.229|Gyr-Z:0.664'),\n",
       " bytearray(b'Time:74212.0|ACC-X:69.335|ACC-Y:9.765|ACC-Z:1048.339|Gyr-X:0.549|Gyr-Y:-3.213|Gyr-Z:-2.76'),\n",
       " bytearray(b'Time:74214.0|ACC-X:60.58|ACC-Y:7.324|ACC-Z:1044.921|Gyr-X:-2.984|Gyr-Y:0.748|Gyr-Z:0.381'),\n",
       " bytearray(b'Time:74216.0|ACC-X:63.964|ACC-Y:-2.441|ACC-Z:1040.527|Gyr-X:-1.312|Gyr-Y:1.610|Gyr-Z:0.38'),\n",
       " bytearray(b'Time:74221.0|ACC-X:72.265|ACC-Y:2.441|ACC-Z:1046.386|Gyr-X:0.442|Gyr-Y:2.793|Gyr-Z:0.641'),\n",
       " bytearray(b'Time:74223.0|ACC-X:51.757|ACC-Y:12.695|ACC-Z:1055.664|Gyr-X:-1.984|Gyr-Y:5.351|Gyr-Z:-2.435'),\n",
       " bytearray(b'Time:74225.0|ACC-X:58.105|ACC-Y:6.835|ACC-Z:1050.781|Gyr-X:0.221|Gyr-Y:0.274|Gyr-Z:0.259'),\n",
       " bytearray(b'Time:74228.0|ACC-X:61.523|ACC-Y:-6.835|ACC-Z:1037.597|Gyr-X:0.954|Gyr-Y:0.15|Gyr-Z:-1.648'),\n",
       " bytearray(b'Time:74230.0|ACC-X:57.617|ACC-Y:-5.859|ACC-Z:1045.898|Gyr-X:-2.167|Gyr-Y:-1.908|Gyr-Z:0.671'),\n",
       " bytearray(b'Time:74233.0|ACC-X:49.804|ACC-Y:-5.371|ACC-Z:1042.480|Gyr-X:0.236|Gyr-Y:0.404|Gyr-Z:1.488'),\n",
       " bytearray(b'Time:74235.0|ACC-X:63.964|ACC-Y:0.976|ACC-Z:1052.246|Gyr-X:0.0|Gyr-Y:0.419|Gyr-Z:-1.290'),\n",
       " bytearray(b'Time:74237.0|ACC-X:72.753|ACC-Y:6.347|ACC-Z:1049.316|Gyr-X:0.259|Gyr-Y:1.366|Gyr-Z:1.977'),\n",
       " bytearray(b'Time:74240.0|ACC-X:58.593|ACC-Y:15.136|ACC-Z:1054.687|Gyr-X:-1.839|Gyr-Y:1.778|Gyr-Z:0.755'),\n",
       " bytearray(b'Time:74242.0|ACC-X:58.593|ACC-Y:0.488|ACC-Z:1045.898|Gyr-X:0.190|Gyr-Y:-1.435|Gyr-Z:2.900'),\n",
       " bytearray(b'Time:74250.0|ACC-X:50.781|ACC-Y:13.671|ACC-Z:1054.199|Gyr-X:0.885|Gyr-Y:0.358|Gyr-Z:0.267'),\n",
       " bytearray(b'Time:74252.0|ACC-X:56.152|ACC-Y:12.207|ACC-Z:1046.875|Gyr-X:-2.458|Gyr-Y:1.83|Gyr-Z:-2.900'),\n",
       " bytearray(b'Time:74254.0|ACC-X:58.593|ACC-Y:5.371|ACC-Z:1047.851|Gyr-X:-2.618|Gyr-Y:-1.38|Gyr-Z:-1.45'),\n",
       " bytearray(b'Time:74257.0|ACC-X:64.453|ACC-Y:-1.464|ACC-Z:1041.992|Gyr-X:-1.496|Gyr-Y:2.809|Gyr-Z:-1.984'),\n",
       " bytearray(b'Time:74259.0|ACC-X:59.570|ACC-Y:4.882|ACC-Z:1053.222|Gyr-X:1.595|Gyr-Y:0.641|Gyr-Z:0.992'),\n",
       " bytearray(b'Time:74262.0|ACC-X:47.363|ACC-Y:7.324|ACC-Z:1060.58|Gyr-X:0.404|Gyr-Y:2.15|Gyr-Z:0.15'),\n",
       " bytearray(b'Time:74264.0|ACC-X:56.152|ACC-Y:6.835|ACC-Z:1040.39|Gyr-X:0.45|Gyr-Y:0.328|Gyr-Z:1.396'),\n",
       " bytearray(b'Time:74266.0|ACC-X:65.429|ACC-Y:1.953|ACC-Z:1048.339|Gyr-X:0.129|Gyr-Y:-2.931|Gyr-Z:1.251'),\n",
       " bytearray(b'Time:74269.0|ACC-X:70.800|ACC-Y:0.0|ACC-Z:1042.968|Gyr-X:0.847|Gyr-Y:1.7|Gyr-Z:1.198'),\n",
       " bytearray(b'Time:74271.0|ACC-X:65.429|ACC-Y:-5.371|ACC-Z:1051.757|Gyr-X:-2.129|Gyr-Y:3.541|Gyr-Z:0.183'),\n",
       " bytearray(b'Time:74274.0|ACC-X:47.851|ACC-Y:5.859|ACC-Z:1058.105|Gyr-X:1.916|Gyr-Y:0.297|Gyr-Z:0.496'),\n",
       " bytearray(b'Time:74276.0|ACC-X:52.246|ACC-Y:17.89|ACC-Z:1050.292|Gyr-X:-2.839|Gyr-Y:0.618|Gyr-Z:0.885'),\n",
       " bytearray(b'Time:74278.0|ACC-X:48.339|ACC-Y:-1.464|ACC-Z:1045.898|Gyr-X:-1.7|Gyr-Y:1.305|Gyr-Z:0.687'),\n",
       " bytearray(b'Time:74281.0|ACC-X:54.687|ACC-Y:-7.812|ACC-Z:1052.246|Gyr-X:-1.30|Gyr-Y:0.793|Gyr-Z:0.114'),\n",
       " bytearray(b'Time:74283.0|ACC-X:61.523|ACC-Y:-1.464|ACC-Z:1040.39|Gyr-X:0.862|Gyr-Y:-2.832|Gyr-Z:0.725'),\n",
       " bytearray(b'Time:74286.0|ACC-X:44.921|ACC-Y:4.394|ACC-Z:1049.316|Gyr-X:-1.541|Gyr-Y:0.99|Gyr-Z:0.816'),\n",
       " bytearray(b'Time:74288.0|ACC-X:54.199|ACC-Y:0.0|ACC-Z:1049.316|Gyr-X:0.22|Gyr-Y:-3.229|Gyr-Z:0.175'),\n",
       " bytearray(b'Time:74291.0|ACC-X:46.875|ACC-Y:0.488|ACC-Z:1055.664|Gyr-X:-1.931|Gyr-Y:2.465|Gyr-Z:1.61'),\n",
       " bytearray(b'Time:74294.0|ACC-X:58.593|ACC-Y:-10.742|ACC-Z:1042.968|Gyr-X:0.213|Gyr-Y:-2.374|Gyr-Z:0.389'),\n",
       " bytearray(b'Time:74297.0|ACC-X:58.593|ACC-Y:0.488|ACC-Z:1048.828|Gyr-X:-1.0|Gyr-Y:1.396|Gyr-Z:0.183'),\n",
       " bytearray(b'Time:74300.0|ACC-X:52.734|ACC-Y:15.136|ACC-Z:1034.179|Gyr-X:0.702|Gyr-Y:0.900|Gyr-Z:-1.908'),\n",
       " bytearray(b'Time:74302.0|ACC-X:65.429|ACC-Y:11.230|ACC-Z:1043.457|Gyr-X:0.977|Gyr-Y:3.145|Gyr-Z:0.305'),\n",
       " bytearray(b'Time:74306.0|ACC-X:58.105|ACC-Y:0.0|ACC-Z:1049.316|Gyr-X:1.167|Gyr-Y:0.442|Gyr-Z:2.938'),\n",
       " bytearray(b'Time:74309.0|ACC-X:59.570|ACC-Y:-1.464|ACC-Z:1045.898|Gyr-X:0.366|Gyr-Y:2.106|Gyr-Z:0.38'),\n",
       " bytearray(b'Time:74311.0|ACC-X:49.804|ACC-Y:7.324|ACC-Z:1040.39|Gyr-X:0.221|Gyr-Y:2.458|Gyr-Z:-1.572'),\n",
       " bytearray(b'Time:74314.0|ACC-X:66.894|ACC-Y:8.300|ACC-Z:1044.921|Gyr-X:0.442|Gyr-Y:0.633|Gyr-Z:0.946'),\n",
       " bytearray(b'Time:74316.0|ACC-X:52.246|ACC-Y:-4.882|ACC-Z:1041.15|Gyr-X:0.709|Gyr-Y:-2.83|Gyr-Z:1.763'),\n",
       " bytearray(b'Time:74318.0|ACC-X:64.453|ACC-Y:-1.464|ACC-Z:1050.781|Gyr-X:0.694|Gyr-Y:0.175|Gyr-Z:2.809'),\n",
       " bytearray(b'Time:74321.0|ACC-X:63.964|ACC-Y:1.953|ACC-Z:1046.875|Gyr-X:-1.175|Gyr-Y:1.99|Gyr-Z:0.839'),\n",
       " bytearray(b'Time:74323.0|ACC-X:65.429|ACC-Y:-1.953|ACC-Z:1051.757|Gyr-X:0.366|Gyr-Y:0.908|Gyr-Z:0.91'),\n",
       " bytearray(b'Time:74326.0|ACC-X:53.710|ACC-Y:10.253|ACC-Z:1054.687|Gyr-X:0.832|Gyr-Y:1.0|Gyr-Z:2.732'),\n",
       " bytearray(b'Time:74328.0|ACC-X:55.175|ACC-Y:4.394|ACC-Z:1055.664|Gyr-X:-1.877|Gyr-Y:0.83|Gyr-Z:-2.244'),\n",
       " bytearray(b'Time:74330.0|ACC-X:49.804|ACC-Y:11.230|ACC-Z:1055.175|Gyr-X:-3.297|Gyr-Y:2.61|Gyr-Z:0.488'),\n",
       " bytearray(b'Time:74333.0|ACC-X:58.593|ACC-Y:-2.929|ACC-Z:1044.921|Gyr-X:0.694|Gyr-Y:1.916|Gyr-Z:0.53'),\n",
       " bytearray(b'Time:74340.0|ACC-X:62.500|ACC-Y:3.906|ACC-Z:1047.363|Gyr-X:0.297|Gyr-Y:0.122|Gyr-Z:0.190'),\n",
       " bytearray(b'Time:74343.0|ACC-X:55.175|ACC-Y:-15.625|ACC-Z:1055.175|Gyr-X:0.847|Gyr-Y:0.816|Gyr-Z:0.7'),\n",
       " bytearray(b'Time:74345.0|ACC-X:65.429|ACC-Y:-4.394|ACC-Z:1039.62|Gyr-X:-2.320|Gyr-Y:1.679|Gyr-Z:0.969'),\n",
       " bytearray(b'Time:74347.0|ACC-X:61.523|ACC-Y:-2.929|ACC-Z:1048.828|Gyr-X:-1.351|Gyr-Y:1.984|Gyr-Z:-1.175'),\n",
       " bytearray(b'Time:74350.0|ACC-X:62.988|ACC-Y:1.464|ACC-Z:1037.109|Gyr-X:-1.977|Gyr-Y:1.717|Gyr-Z:-3.305'),\n",
       " bytearray(b'Time:74352.0|ACC-X:55.175|ACC-Y:17.89|ACC-Z:1050.292|Gyr-X:0.68|Gyr-Y:0.335|Gyr-Z:0.160'),\n",
       " bytearray(b'Time:74355.0|ACC-X:42.968|ACC-Y:6.347|ACC-Z:1052.734|Gyr-X:0.442|Gyr-Y:-1.908|Gyr-Z:0.412'),\n",
       " bytearray(b'Time:74357.0|ACC-X:53.710|ACC-Y:3.906|ACC-Z:1041.992|Gyr-X:-1.274|Gyr-Y:0.312|Gyr-Z:1.297'),\n",
       " bytearray(b'Time:74359.0|ACC-X:59.82|ACC-Y:-5.859|ACC-Z:1050.781|Gyr-X:-1.832|Gyr-Y:2.175|Gyr-Z:1.977'),\n",
       " bytearray(b'Time:74362.0|ACC-X:62.988|ACC-Y:3.417|ACC-Z:1048.339|Gyr-X:0.809|Gyr-Y:1.519|Gyr-Z:0.465'),\n",
       " bytearray(b'Time:74364.0|ACC-X:63.476|ACC-Y:-6.835|ACC-Z:1039.550|Gyr-X:-1.541|Gyr-Y:1.946|Gyr-Z:0.213'),\n",
       " bytearray(b'Time:74366.0|ACC-X:54.199|ACC-Y:8.300|ACC-Z:1047.851|Gyr-X:-1.267|Gyr-Y:0.198|Gyr-Z:0.190'),\n",
       " bytearray(b'Time:74369.0|ACC-X:57.128|ACC-Y:-8.789|ACC-Z:1048.828|Gyr-X:0.824|Gyr-Y:-1.587|Gyr-Z:0.793'),\n",
       " bytearray(b'Time:74371.0|ACC-X:61.523|ACC-Y:2.929|ACC-Z:1053.222|Gyr-X:-1.198|Gyr-Y:4.740|Gyr-Z:1.160'),\n",
       " bytearray(b'Time:74374.0|ACC-X:51.269|ACC-Y:10.742|ACC-Z:1044.921|Gyr-X:-2.816|Gyr-Y:0.778|Gyr-Z:0.160'),\n",
       " bytearray(b'Time:74376.0|ACC-X:65.429|ACC-Y:0.488|ACC-Z:1049.316|Gyr-X:0.961|Gyr-Y:1.816|Gyr-Z:0.709'),\n",
       " bytearray(b'Time:74378.0|ACC-X:61.523|ACC-Y:9.277|ACC-Z:1042.968|Gyr-X:-2.312|Gyr-Y:-1.183|Gyr-Z:0.503'),\n",
       " bytearray(b'Time:74384.0|ACC-X:57.617|ACC-Y:-7.812|ACC-Z:1042.968|Gyr-X:0.450|Gyr-Y:2.503|Gyr-Z:0.145'),\n",
       " bytearray(b'Time:74386.0|ACC-X:61.523|ACC-Y:12.207|ACC-Z:1042.480|Gyr-X:-1.458|Gyr-Y:0.312|Gyr-Z:0.618'),\n",
       " bytearray(b'Time:74389.0|ACC-X:63.964|ACC-Y:-2.441|ACC-Z:1040.39|Gyr-X:0.480|Gyr-Y:2.969|Gyr-Z:1.603'),\n",
       " bytearray(b'Time:74393.0|ACC-X:49.316|ACC-Y:4.882|ACC-Z:1044.433|Gyr-X:0.320|Gyr-Y:-2.396|Gyr-Z:0.473'),\n",
       " bytearray(b'Time:74395.0|ACC-X:62.500|ACC-Y:-20.507|ACC-Z:1030.761|Gyr-X:1.83|Gyr-Y:0.137|Gyr-Z:0.816'),\n",
       " bytearray(b'Time:74397.0|ACC-X:50.292|ACC-Y:13.671|ACC-Z:1038.574|Gyr-X:0.22|Gyr-Y:0.465|Gyr-Z:0.259'),\n",
       " bytearray(b'Time:74400.0|ACC-X:48.828|ACC-Y:3.906|ACC-Z:1058.105|Gyr-X:1.213|Gyr-Y:0.45|Gyr-Z:0.603'),\n",
       " bytearray(b'Time:74402.0|ACC-X:65.917|ACC-Y:1.464|ACC-Z:1041.15|Gyr-X:-1.0|Gyr-Y:0.297|Gyr-Z:1.305'),\n",
       " bytearray(b'Time:74408.0|ACC-X:56.152|ACC-Y:2.929|ACC-Z:1048.339|Gyr-X:-1.389|Gyr-Y:2.587|Gyr-Z:-1.114'),\n",
       " bytearray(b'Time:74410.0|ACC-X:59.82|ACC-Y:2.929|ACC-Z:1049.316|Gyr-X:0.213|Gyr-Y:0.335|Gyr-Z:0.145'),\n",
       " bytearray(b'Time:74412.0|ACC-X:57.128|ACC-Y:0.488|ACC-Z:1047.363|Gyr-X:-1.534|Gyr-Y:0.580|Gyr-Z:2.816'),\n",
       " bytearray(b'Time:74417.0|ACC-X:51.757|ACC-Y:1.953|ACC-Z:1051.757|Gyr-X:0.7|Gyr-Y:0.961|Gyr-Z:0.549'),\n",
       " bytearray(b'Time:74419.0|ACC-X:62.988|ACC-Y:-5.371|ACC-Z:1047.851|Gyr-X:0.183|Gyr-Y:0.427|Gyr-Z:0.503'),\n",
       " bytearray(b'Time:74422.0|ACC-X:50.781|ACC-Y:2.929|ACC-Z:1051.269|Gyr-X:0.679|Gyr-Y:-1.442|Gyr-Z:-1.755'),\n",
       " bytearray(b'Time:74424.0|ACC-X:60.58|ACC-Y:-5.371|ACC-Z:1052.246|Gyr-X:0.0|Gyr-Y:2.22|Gyr-Z:-2.83'),\n",
       " bytearray(b'Time:74426.0|ACC-X:53.710|ACC-Y:2.929|ACC-Z:1041.503|Gyr-X:-1.160|Gyr-Y:0.793|Gyr-Z:0.809'),\n",
       " bytearray(b'Time:74433.0|ACC-X:55.664|ACC-Y:-4.394|ACC-Z:1043.945|Gyr-X:0.885|Gyr-Y:1.885|Gyr-Z:0.541'),\n",
       " bytearray(b'Time:74435.0|ACC-X:80.566|ACC-Y:1.464|ACC-Z:1046.875|Gyr-X:-1.816|Gyr-Y:1.740|Gyr-Z:-1.351'),\n",
       " bytearray(b'Time:74438.0|ACC-X:51.269|ACC-Y:7.812|ACC-Z:1056.640|Gyr-X:0.656|Gyr-Y:0.488|Gyr-Z:0.809'),\n",
       " bytearray(b'Time:74440.0|ACC-X:58.593|ACC-Y:10.742|ACC-Z:1037.109|Gyr-X:1.351|Gyr-Y:0.320|Gyr-Z:-2.473'),\n",
       " bytearray(b'Time:74442.0|ACC-X:71.289|ACC-Y:6.347|ACC-Z:1046.875|Gyr-X:1.748|Gyr-Y:0.709|Gyr-Z:0.877'),\n",
       " bytearray(b'Time:74445.0|ACC-X:49.804|ACC-Y:13.183|ACC-Z:1060.546|Gyr-X:0.908|Gyr-Y:-1.221|Gyr-Z:1.824'),\n",
       " bytearray(b'Time:74447.0|ACC-X:54.687|ACC-Y:3.417|ACC-Z:1050.781|Gyr-X:0.702|Gyr-Y:0.816|Gyr-Z:1.854'),\n",
       " bytearray(b'Time:74449.0|ACC-X:51.757|ACC-Y:3.906|ACC-Z:1050.781|Gyr-X:-1.396|Gyr-Y:1.900|Gyr-Z:-1.45'),\n",
       " bytearray(b'Time:74452.0|ACC-X:55.175|ACC-Y:-13.183|ACC-Z:1048.339|Gyr-X:-4.351|Gyr-Y:0.419|Gyr-Z:0.53'),\n",
       " bytearray(b'Time:74454.0|ACC-X:51.269|ACC-Y:2.441|ACC-Z:1037.597|Gyr-X:-1.198|Gyr-Y:1.755|Gyr-Z:-2.564'),\n",
       " bytearray(b'Time:74457.0|ACC-X:53.222|ACC-Y:11.718|ACC-Z:1050.292|Gyr-X:-1.862|Gyr-Y:0.312|Gyr-Z:0.190'),\n",
       " bytearray(b'Time:74459.0|ACC-X:46.386|ACC-Y:0.976|ACC-Z:1052.246|Gyr-X:1.832|Gyr-Y:1.7|Gyr-Z:1.38'),\n",
       " bytearray(b'Time:74461.0|ACC-X:55.664|ACC-Y:-1.464|ACC-Z:1044.433|Gyr-X:0.343|Gyr-Y:-2.458|Gyr-Z:1.496'),\n",
       " bytearray(b'Time:74464.0|ACC-X:68.847|ACC-Y:-4.882|ACC-Z:1043.457|Gyr-X:2.83|Gyr-Y:0.358|Gyr-Z:1.992'),\n",
       " bytearray(b'Time:74466.0|ACC-X:47.363|ACC-Y:-3.906|ACC-Z:1041.15|Gyr-X:0.755|Gyr-Y:-1.274|Gyr-Z:1.267'),\n",
       " bytearray(b'Time:74469.0|ACC-X:58.105|ACC-Y:5.859|ACC-Z:1052.734|Gyr-X:0.320|Gyr-Y:0.641|Gyr-Z:0.244'),\n",
       " bytearray(b'Time:74471.0|ACC-X:62.500|ACC-Y:1.464|ACC-Z:1049.316|Gyr-X:-2.648|Gyr-Y:-1.862|Gyr-Z:-2.381')]"
      ]
     },
     "execution_count": 12,
     "metadata": {},
     "output_type": "execute_result"
    },
    {
     "name": "stdout",
     "output_type": "stream",
     "text": [
      "2024-03-07 05:04:50,515 |\u001b[32m INFO     \u001b[0m|: Disconnected from C0:89:C1:6D:24:4B\n"
     ]
    }
   ],
   "source": [
    "raw_message"
   ]
  },
  {
   "cell_type": "code",
   "execution_count": 11,
   "id": "cd121e79-0d7c-4ab2-b3f8-ee91ea5568b6",
   "metadata": {},
   "outputs": [],
   "source": [
    "ble.stop_notify(ble.uuid['RX_STRING'])"
   ]
  },
  {
   "cell_type": "code",
   "execution_count": null,
   "id": "2b0e047b-ae08-405e-8e32-214b5653e493",
   "metadata": {},
   "outputs": [],
   "source": []
  },
  {
   "cell_type": "code",
   "execution_count": 11,
   "id": "a790e636-45f0-47ab-b133-97e5920dfca0",
   "metadata": {},
   "outputs": [
    {
     "name": "stdout",
     "output_type": "stream",
     "text": [
      "2024-02-21 13:03:53,859 |\u001b[32m INFO     \u001b[0m|: Disconnected from C0:89:C1:6D:24:4B\n"
     ]
    }
   ],
   "source": [
    "# Disconnect\n",
    "ble.disconnect()"
   ]
  },
  {
   "cell_type": "code",
   "execution_count": null,
   "id": "8fbc1916-c6e1-4037-9548-6f7647a38663",
   "metadata": {},
   "outputs": [],
   "source": []
  }
 ],
 "metadata": {
  "kernelspec": {
   "display_name": "Python 3 (ipykernel)",
   "language": "python",
   "name": "python3"
  },
  "language_info": {
   "codemirror_mode": {
    "name": "ipython",
    "version": 3
   },
   "file_extension": ".py",
   "mimetype": "text/x-python",
   "name": "python",
   "nbconvert_exporter": "python",
   "pygments_lexer": "ipython3",
   "version": "3.12.2"
  }
 },
 "nbformat": 4,
 "nbformat_minor": 5
}
