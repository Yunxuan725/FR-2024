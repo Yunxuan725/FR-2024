{
 "cells": [
  {
   "cell_type": "markdown",
   "id": "1e68dc48-c63c-497b-a52a-80bf91d7653f",
   "metadata": {},
   "source": [
    "## Initialize"
   ]
  },
  {
   "cell_type": "code",
   "execution_count": 1,
   "id": "b52bdd60-54f2-4fb4-b67d-0bd155210d04",
   "metadata": {},
   "outputs": [],
   "source": [
    "%load_ext autoreload\n",
    "%autoreload 2\n",
    "\n",
    "from ble import get_ble_controller\n",
    "from base_ble import LOG\n",
    "from cmd_types import CMD\n",
    "import time\n",
    "import numpy as np\n",
    "\n",
    "LOG.propagate = False"
   ]
  },
  {
   "cell_type": "code",
   "execution_count": 2,
   "id": "1b29440c-94bf-4c90-aa4c-a587a1b3f478",
   "metadata": {},
   "outputs": [
    {
     "name": "stdout",
     "output_type": "stream",
     "text": [
      "2024-02-13 12:52:27,195 |\u001b[32m INFO     \u001b[0m|: info\n",
      "2024-02-13 12:52:27,198 |\u001b[33m WARNING  \u001b[0m|: warning\n",
      "2024-02-13 12:52:27,199 |\u001b[31m ERROR    \u001b[0m|: error\n",
      "2024-02-13 12:52:27,200 |\u001b[31m\u001b[47m\u001b[1m CRITICAL \u001b[0m|: critical\n"
     ]
    }
   ],
   "source": [
    "LOG.debug(\"debug\")\n",
    "LOG.info(\"info\")\n",
    "LOG.warning(\"warning\")\n",
    "LOG.error(\"error\")\n",
    "LOG.critical(\"critical\")"
   ]
  },
  {
   "cell_type": "code",
   "execution_count": 3,
   "id": "f48e3d26-675b-47a9-bbab-64c39dbb967b",
   "metadata": {},
   "outputs": [
    {
     "name": "stdout",
     "output_type": "stream",
     "text": [
      "2024-02-13 12:52:27,399 |\u001b[32m INFO     \u001b[0m|: Looking for Artemis Nano Peripheral Device: c0:89:c1:6d:24:4b\n",
      "2024-02-13 12:52:32,158 |\u001b[32m INFO     \u001b[0m|: Connected to c0:89:c1:6d:24:4b\n"
     ]
    },
    {
     "name": "stderr",
     "output_type": "stream",
     "text": [
      "C:\\Users\\xyx07\\Fast_Robot\\ble_robot-1.1\\ble_python\\base_ble.py:104: FutureWarning: This method will be removed future version, pass the callback to the BleakClient constructor instead.\n",
      "  self.client.set_disconnected_callback(self.disconnect_handler)\n"
     ]
    }
   ],
   "source": [
    "# Get ArtemisBLEController object\n",
    "ble = get_ble_controller()\n",
    "\n",
    "# Connect to the Artemis Device\n",
    "ble.connect()"
   ]
  },
  {
   "cell_type": "markdown",
   "id": "8ef6b4c1-2d3b-4a7c-9c8f-a975d0dd6fec",
   "metadata": {},
   "source": [
    "## Task 1"
   ]
  },
  {
   "cell_type": "code",
   "execution_count": 4,
   "id": "c9ba4b6f-9700-4725-bd5b-9cac93ca61d1",
   "metadata": {},
   "outputs": [
    {
     "name": "stdout",
     "output_type": "stream",
     "text": [
      "Robot says -> HiHello :)\n"
     ]
    }
   ],
   "source": [
    "ble.send_command(CMD.ECHO, \"HiHello\")\n",
    "output1 = ble.receive_string(ble.uuid['RX_STRING'])\n",
    "print(output1)"
   ]
  },
  {
   "cell_type": "markdown",
   "id": "5ff80f15-8e99-46d5-a171-de8e34f971b4",
   "metadata": {},
   "source": [
    "## Task 2"
   ]
  },
  {
   "cell_type": "code",
   "execution_count": 6,
   "id": "69c7f7a8-5128-4abe-a9c8-51520843faaa",
   "metadata": {},
   "outputs": [
    {
     "name": "stdout",
     "output_type": "stream",
     "text": [
      "T: 29710\n"
     ]
    }
   ],
   "source": [
    "ble.send_command(CMD.GET_TIME_MILLIS, \"\")\n",
    "output2 = ble.receive_string(ble.uuid['RX_STRING'])\n",
    "print(output2)"
   ]
  },
  {
   "cell_type": "markdown",
   "id": "a0c9ba7c-d6f0-4335-acce-0a9364c61e4f",
   "metadata": {},
   "source": [
    "## Task 3"
   ]
  },
  {
   "cell_type": "code",
   "execution_count": 15,
   "id": "6b321eef-cf79-409a-8224-63c922a6340d",
   "metadata": {},
   "outputs": [],
   "source": [
    "arr_time=[] #store the time data in milliseconds\n",
    "raw_message=[] #store raw message received\n",
    "print_time = True #print time received if True\n",
    "# A callback function that only works for \n",
    "#receiving time info from GET_TIME_MILLIS\n",
    "def notification_handler(uuid, byte_array):\n",
    "    global time\n",
    "    raw_message.append(byte_array)\n",
    "    # Extracts the time portion in seconds from the byte array\n",
    "    message = ble.bytearray_to_string(byte_array)\n",
    "    time_ms = float(message[2:])\n",
    "    arr_time.append(time_ms)\n",
    "    if print_time: print(f\"Time = {time_ms/1000}s\")\n",
    "\n",
    "ble.start_notify(ble.uuid['RX_STRING'], notification_handler)"
   ]
  },
  {
   "cell_type": "code",
   "execution_count": 16,
   "id": "18a7bbfa-ded8-481a-ae05-91425df9ba69",
   "metadata": {},
   "outputs": [
    {
     "data": {
      "text/plain": [
       "[]"
      ]
     },
     "execution_count": 16,
     "metadata": {},
     "output_type": "execute_result"
    }
   ],
   "source": [
    "raw_message"
   ]
  },
  {
   "cell_type": "code",
   "execution_count": 17,
   "id": "731c21fa-8409-4693-a007-b4d5516f9fcf",
   "metadata": {},
   "outputs": [
    {
     "name": "stdout",
     "output_type": "stream",
     "text": [
      "Time = 180.46s\n",
      "Time = 180.583s\n",
      "Time = 180.699s\n",
      "Time = 180.821s\n"
     ]
    }
   ],
   "source": [
    "ble.send_command(CMD.GET_TIME_MILLIS, \"\")\n",
    "ble.send_command(CMD.GET_TIME_MILLIS, \"\")\n",
    "ble.send_command(CMD.GET_TIME_MILLIS, \"\")\n",
    "ble.send_command(CMD.GET_TIME_MILLIS, \"\")"
   ]
  },
  {
   "cell_type": "code",
   "execution_count": 18,
   "id": "b3a0afd6-b9f5-4fa9-8783-e0a757a726c5",
   "metadata": {},
   "outputs": [
    {
     "data": {
      "text/plain": [
       "[180460.0, 180583.0, 180699.0, 180821.0]"
      ]
     },
     "execution_count": 18,
     "metadata": {},
     "output_type": "execute_result"
    }
   ],
   "source": [
    "ble.stop_notify(ble.uuid['RX_STRING'])\n",
    "ble.send_command(CMD.GET_TIME_MILLIS, \"\")\n",
    "arr_time"
   ]
  },
  {
   "cell_type": "markdown",
   "id": "9f799a6d-b326-4025-a636-4e789631a4ab",
   "metadata": {},
   "source": [
    "## Task 4"
   ]
  },
  {
   "cell_type": "code",
   "execution_count": 28,
   "id": "aaffa4da-dba0-4e3a-9129-14054039f8e1",
   "metadata": {},
   "outputs": [
    {
     "name": "stdout",
     "output_type": "stream",
     "text": [
      "Effective data transferred is about 0.091 bytes/ms\n",
      "2024-02-13 14:25:01,927 |\u001b[32m INFO     \u001b[0m|: Disconnected from C0:89:C1:6D:24:4B\n"
     ]
    }
   ],
   "source": [
    "#reset array\n",
    "raw_message=[]\n",
    "arr_time = [] \n",
    "\n",
    "print_time = False\n",
    "round = 50 # number of round trips for command sent and message received\n",
    "\n",
    "ble.start_notify(ble.uuid['RX_STRING'], notification_handler) \n",
    "for _ in range(round):\n",
    "    ble.send_command(CMD.GET_TIME_MILLIS, \"\")\n",
    "ble.stop_notify(ble.uuid['RX_STRING'])\n",
    "\n",
    "#Size of command and message in bytes\n",
    "message_size = len(raw_message[0]) # size of message received i bytes\n",
    "command_size = 1 # command enumerated by an integer, so the command size is 1 byte\n",
    "total_data_transferred = (message_size+command_size)*round\n",
    "total_time_ms = (arr_time[-1] - arr_time[0]) \n",
    "\n",
    "# Calculate the effective data transfer rate in bytes per millisecond\n",
    "transfer_rate = total_data_transferred / total_time_ms\n",
    "print(f\"Effective data transferred is about {np.round(transfer_rate, 3)} bytes/ms\")"
   ]
  },
  {
   "cell_type": "markdown",
   "id": "bb53d911-6e9b-4899-8140-2813d870ecdc",
   "metadata": {},
   "source": [
    "## Task 5"
   ]
  },
  {
   "cell_type": "code",
   "execution_count": 27,
   "id": "adf34f11-68cd-4e5c-8a9c-e2e84fa40ae7",
   "metadata": {},
   "outputs": [
    {
     "data": {
      "text/plain": [
       "0.094"
      ]
     },
     "execution_count": 27,
     "metadata": {},
     "output_type": "execute_result"
    }
   ],
   "source": [
    "def notification_handler(uuid, byte_array):\n",
    "    global time\n",
    "    raw_message.append(byte_array)\n",
    "    # Extracts the time portion in seconds from the byte array\n",
    "    message = ble.bytearray_to_string(byte_array)\n",
    "    time_ms = float(message[2:])\n",
    "    arr_time.append(time_ms)\n",
    "    if print_time: print(f\"Time = {time_ms/1000}s\")\n",
    "\n",
    "# Start listening for notifications\n",
    "ble.start_notify(ble.uuid['RX_STRING'], notification_handler)\n",
    "\n",
    "ble.send_command(CMD.SEND_TIME_DATA, \"\")\n",
    "\n",
    "# Stop notifications when done\n",
    "ble.stop_notify(ble.uuid['RX_STRING'])\n"
   ]
  },
  {
   "cell_type": "code",
   "execution_count": 29,
   "id": "7f1956b0-a042-4284-9291-5deb35b617fe",
   "metadata": {},
   "outputs": [
    {
     "ename": "AttributeError",
     "evalue": "type object 'CMD' has no attribute 'SEND_TIME_DATA'",
     "output_type": "error",
     "traceback": [
      "\u001b[1;31m---------------------------------------------------------------------------\u001b[0m",
      "\u001b[1;31mAttributeError\u001b[0m                            Traceback (most recent call last)",
      "Cell \u001b[1;32mIn[29], line 1\u001b[0m\n\u001b[1;32m----> 1\u001b[0m ble\u001b[38;5;241m.\u001b[39msend_command(\u001b[43mCMD\u001b[49m\u001b[38;5;241;43m.\u001b[39;49m\u001b[43mSEND_TIME_DATA\u001b[49m, \u001b[38;5;124m\"\u001b[39m\u001b[38;5;124m\"\u001b[39m)\n",
      "\u001b[1;31mAttributeError\u001b[0m: type object 'CMD' has no attribute 'SEND_TIME_DATA'"
     ]
    }
   ],
   "source": [
    "ble.send_command(CMD.SEND_TIME_DATA, \"\")"
   ]
  },
  {
   "cell_type": "code",
   "execution_count": 33,
   "id": "879ecece-06d8-437f-9bc7-b82e57b93e43",
   "metadata": {},
   "outputs": [
    {
     "data": {
      "text/plain": [
       "0.09943652635067948"
      ]
     },
     "execution_count": 33,
     "metadata": {},
     "output_type": "execute_result"
    }
   ],
   "source": [
    "transfer_rate"
   ]
  },
  {
   "cell_type": "code",
   "execution_count": null,
   "id": "cf91d64d-476d-4a7d-a0ae-cf60cc9f83a2",
   "metadata": {},
   "outputs": [],
   "source": []
  },
  {
   "cell_type": "code",
   "execution_count": null,
   "id": "bc3adcd4-632b-48bb-8c32-2541e5dcd571",
   "metadata": {},
   "outputs": [],
   "source": []
  },
  {
   "cell_type": "code",
   "execution_count": 17,
   "id": "797d6cc7-d481-4f38-b28f-d90d16cf7b3c",
   "metadata": {},
   "outputs": [],
   "source": []
  },
  {
   "cell_type": "code",
   "execution_count": null,
   "id": "7571491c-d6b6-4ef6-9ac6-a31e36635f87",
   "metadata": {},
   "outputs": [],
   "source": []
  },
  {
   "cell_type": "code",
   "execution_count": null,
   "id": "5a653652-87ce-4e7d-8deb-aa69c2716eba",
   "metadata": {},
   "outputs": [],
   "source": [
    "# Disconnect\n",
    "ble.disconnect()"
   ]
  },
  {
   "cell_type": "code",
   "execution_count": null,
   "id": "3761100a-ae77-4fd5-802c-3312b8402427",
   "metadata": {},
   "outputs": [],
   "source": []
  }
 ],
 "metadata": {
  "kernelspec": {
   "display_name": "Python 3 (ipykernel)",
   "language": "python",
   "name": "python3"
  },
  "language_info": {
   "codemirror_mode": {
    "name": "ipython",
    "version": 3
   },
   "file_extension": ".py",
   "mimetype": "text/x-python",
   "name": "python",
   "nbconvert_exporter": "python",
   "pygments_lexer": "ipython3",
   "version": "3.12.2"
  }
 },
 "nbformat": 4,
 "nbformat_minor": 5
}
